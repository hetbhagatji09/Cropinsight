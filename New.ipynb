{
 "cells": [
  {
   "cell_type": "code",
   "execution_count": 1,
   "id": "b68511e2",
   "metadata": {},
   "outputs": [],
   "source": [
    "import pandas as pd"
   ]
  },
  {
   "cell_type": "code",
   "execution_count": 2,
   "id": "93767b11",
   "metadata": {},
   "outputs": [],
   "source": [
    "df=pd.read_excel('data/New.xlsx')"
   ]
  },
  {
   "cell_type": "code",
   "execution_count": 3,
   "id": "6ae6d3db",
   "metadata": {},
   "outputs": [],
   "source": [
    "df.drop(['Unnamed: 0','Unnamed: 1','Variety','Grade'],axis=1,inplace=True)"
   ]
  },
  {
   "cell_type": "code",
   "execution_count": 4,
   "id": "0d9163c0",
   "metadata": {},
   "outputs": [],
   "source": [
    "df['Year']=df['Date'].dt.year\n",
    "df['Month']=df['Date'].dt.month\n",
    "df['Day']=df['Date'].dt.day"
   ]
  },
  {
   "cell_type": "code",
   "execution_count": 5,
   "id": "bdebd8c4",
   "metadata": {},
   "outputs": [],
   "source": [
    "df=df.dropna()"
   ]
  },
  {
   "cell_type": "code",
   "execution_count": 26,
   "id": "a3deb9a6",
   "metadata": {},
   "outputs": [
    {
     "data": {
      "text/html": [
       "<div>\n",
       "<style scoped>\n",
       "    .dataframe tbody tr th:only-of-type {\n",
       "        vertical-align: middle;\n",
       "    }\n",
       "\n",
       "    .dataframe tbody tr th {\n",
       "        vertical-align: top;\n",
       "    }\n",
       "\n",
       "    .dataframe thead th {\n",
       "        text-align: right;\n",
       "    }\n",
       "</style>\n",
       "<table border=\"1\" class=\"dataframe\">\n",
       "  <thead>\n",
       "    <tr style=\"text-align: right;\">\n",
       "      <th></th>\n",
       "      <th>District Name</th>\n",
       "      <th>Market Name</th>\n",
       "      <th>Commodity</th>\n",
       "      <th>Min Price(Rs.)</th>\n",
       "      <th>Max Price(Rs.)</th>\n",
       "      <th>Model Price</th>\n",
       "      <th>Year</th>\n",
       "      <th>Month</th>\n",
       "      <th>Day</th>\n",
       "    </tr>\n",
       "  </thead>\n",
       "  <tbody>\n",
       "    <tr>\n",
       "      <th>0</th>\n",
       "      <td>Junagarh</td>\n",
       "      <td>Junagadh</td>\n",
       "      <td>Soyabean</td>\n",
       "      <td>2750.0</td>\n",
       "      <td>3500.0</td>\n",
       "      <td>3125.0</td>\n",
       "      <td>2018.0</td>\n",
       "      <td>6.0</td>\n",
       "      <td>13.0</td>\n",
       "    </tr>\n",
       "    <tr>\n",
       "      <th>1</th>\n",
       "      <td>Surat</td>\n",
       "      <td>S.Mandvi</td>\n",
       "      <td>Green Gram (Moong)(Whole)</td>\n",
       "      <td>5750.0</td>\n",
       "      <td>6710.0</td>\n",
       "      <td>6230.0</td>\n",
       "      <td>2020.0</td>\n",
       "      <td>6.0</td>\n",
       "      <td>14.0</td>\n",
       "    </tr>\n",
       "    <tr>\n",
       "      <th>2</th>\n",
       "      <td>Bhavnagar</td>\n",
       "      <td>Bhavnagar</td>\n",
       "      <td>Wheat</td>\n",
       "      <td>2345.0</td>\n",
       "      <td>2365.0</td>\n",
       "      <td>2355.0</td>\n",
       "      <td>2022.0</td>\n",
       "      <td>7.0</td>\n",
       "      <td>25.0</td>\n",
       "    </tr>\n",
       "    <tr>\n",
       "      <th>3</th>\n",
       "      <td>Rajkot</td>\n",
       "      <td>Dhoraji</td>\n",
       "      <td>Wheat</td>\n",
       "      <td>2405.0</td>\n",
       "      <td>2590.0</td>\n",
       "      <td>2570.0</td>\n",
       "      <td>2024.0</td>\n",
       "      <td>6.0</td>\n",
       "      <td>4.0</td>\n",
       "    </tr>\n",
       "    <tr>\n",
       "      <th>4</th>\n",
       "      <td>Amreli</td>\n",
       "      <td>Amreli</td>\n",
       "      <td>Wheat</td>\n",
       "      <td>2250.0</td>\n",
       "      <td>3090.0</td>\n",
       "      <td>2905.0</td>\n",
       "      <td>2023.0</td>\n",
       "      <td>2.0</td>\n",
       "      <td>4.0</td>\n",
       "    </tr>\n",
       "  </tbody>\n",
       "</table>\n",
       "</div>"
      ],
      "text/plain": [
       "  District Name Market Name                  Commodity  Min Price(Rs.)  \\\n",
       "0      Junagarh    Junagadh                   Soyabean          2750.0   \n",
       "1         Surat    S.Mandvi  Green Gram (Moong)(Whole)          5750.0   \n",
       "2     Bhavnagar   Bhavnagar                      Wheat          2345.0   \n",
       "3        Rajkot     Dhoraji                      Wheat          2405.0   \n",
       "4        Amreli      Amreli                      Wheat          2250.0   \n",
       "\n",
       "   Max Price(Rs.)  Model Price    Year  Month   Day  \n",
       "0          3500.0       3125.0  2018.0    6.0  13.0  \n",
       "1          6710.0       6230.0  2020.0    6.0  14.0  \n",
       "2          2365.0       2355.0  2022.0    7.0  25.0  \n",
       "3          2590.0       2570.0  2024.0    6.0   4.0  \n",
       "4          3090.0       2905.0  2023.0    2.0   4.0  "
      ]
     },
     "execution_count": 26,
     "metadata": {},
     "output_type": "execute_result"
    }
   ],
   "source": [
    "df = df.sample(frac=1, random_state=42).reset_index(drop=True)\n",
    "df.head()"
   ]
  },
  {
   "cell_type": "code",
   "execution_count": 7,
   "id": "67baf118",
   "metadata": {},
   "outputs": [],
   "source": [
    "from sklearn.compose import ColumnTransformer\n",
    "from sklearn.pipeline import Pipeline\n",
    "from sklearn.model_selection import train_test_split\n",
    "from sklearn.preprocessing import LabelEncoder,OneHotEncoder,StandardScaler,OrdinalEncoder\n",
    "from sklearn.linear_model import LinearRegression"
   ]
  },
  {
   "cell_type": "code",
   "execution_count": 62,
   "id": "ca95b035",
   "metadata": {},
   "outputs": [],
   "source": [
    "X=df.drop('Model Price',axis=1)\n",
    "y=df['Model Price']"
   ]
  },
  {
   "cell_type": "code",
   "execution_count": 28,
   "id": "aeefef56",
   "metadata": {},
   "outputs": [
    {
     "data": {
      "text/plain": [
       "Index(['District Name', 'Market Name', 'Commodity', 'Min Price(Rs.)',\n",
       "       'Max Price(Rs.)', 'Model Price', 'Year', 'Month', 'Day'],\n",
       "      dtype='object')"
      ]
     },
     "execution_count": 28,
     "metadata": {},
     "output_type": "execute_result"
    }
   ],
   "source": [
    "df.columns"
   ]
  },
  {
   "cell_type": "code",
   "execution_count": 10,
   "id": "aef2c969",
   "metadata": {},
   "outputs": [],
   "source": [
    "preprocessor=ColumnTransformer(\n",
    "    transformers=[\n",
    "        ('district_name',OrdinalEncoder(),['District Name']),\n",
    "        ('market_name',OrdinalEncoder(),['Market Name']),\n",
    "        ('commodity',OrdinalEncoder(),['Commodity'])\n",
    "        \n",
    "        \n",
    "    ],\n",
    "    remainder='passthrough',\n",
    ")"
   ]
  },
  {
   "cell_type": "code",
   "execution_count": 11,
   "id": "463b5205",
   "metadata": {},
   "outputs": [],
   "source": [
    "pipeline=Pipeline(\n",
    "    steps=[\n",
    "        ('preprocessor', preprocessor),\n",
    "        ('scaler', StandardScaler()),  # Optional: scale features\n",
    "        ('model', LinearRegression())\n",
    "    ]\n",
    ")"
   ]
  },
  {
   "cell_type": "code",
   "execution_count": 21,
   "id": "3a209ea1",
   "metadata": {},
   "outputs": [
    {
     "data": {
      "text/html": [
       "<div>\n",
       "<style scoped>\n",
       "    .dataframe tbody tr th:only-of-type {\n",
       "        vertical-align: middle;\n",
       "    }\n",
       "\n",
       "    .dataframe tbody tr th {\n",
       "        vertical-align: top;\n",
       "    }\n",
       "\n",
       "    .dataframe thead th {\n",
       "        text-align: right;\n",
       "    }\n",
       "</style>\n",
       "<table border=\"1\" class=\"dataframe\">\n",
       "  <thead>\n",
       "    <tr style=\"text-align: right;\">\n",
       "      <th></th>\n",
       "      <th>District Name</th>\n",
       "      <th>Market Name</th>\n",
       "      <th>Commodity</th>\n",
       "      <th>Min Price(Rs.)</th>\n",
       "      <th>Max Price(Rs.)</th>\n",
       "      <th>Model Price</th>\n",
       "      <th>Year</th>\n",
       "      <th>Month</th>\n",
       "      <th>Day</th>\n",
       "    </tr>\n",
       "  </thead>\n",
       "  <tbody>\n",
       "    <tr>\n",
       "      <th>0</th>\n",
       "      <td>Banaskanth</td>\n",
       "      <td>Amirgadh</td>\n",
       "      <td>Wheat</td>\n",
       "      <td>1565.0</td>\n",
       "      <td>1565.0</td>\n",
       "      <td>1565.0</td>\n",
       "      <td>2018.0</td>\n",
       "      <td>2.0</td>\n",
       "      <td>2.0</td>\n",
       "    </tr>\n",
       "    <tr>\n",
       "      <th>1</th>\n",
       "      <td>Banaskanth</td>\n",
       "      <td>Amirgadh</td>\n",
       "      <td>Wheat</td>\n",
       "      <td>1575.0</td>\n",
       "      <td>1705.0</td>\n",
       "      <td>1640.0</td>\n",
       "      <td>2018.0</td>\n",
       "      <td>6.0</td>\n",
       "      <td>11.0</td>\n",
       "    </tr>\n",
       "    <tr>\n",
       "      <th>2</th>\n",
       "      <td>Banaskanth</td>\n",
       "      <td>Amirgadh</td>\n",
       "      <td>Wheat</td>\n",
       "      <td>1650.0</td>\n",
       "      <td>1750.0</td>\n",
       "      <td>1700.0</td>\n",
       "      <td>2018.0</td>\n",
       "      <td>7.0</td>\n",
       "      <td>7.0</td>\n",
       "    </tr>\n",
       "    <tr>\n",
       "      <th>3</th>\n",
       "      <td>Banaskanth</td>\n",
       "      <td>Amirgadh</td>\n",
       "      <td>Wheat</td>\n",
       "      <td>1655.0</td>\n",
       "      <td>1720.0</td>\n",
       "      <td>1685.0</td>\n",
       "      <td>2018.0</td>\n",
       "      <td>7.0</td>\n",
       "      <td>5.0</td>\n",
       "    </tr>\n",
       "    <tr>\n",
       "      <th>4</th>\n",
       "      <td>Banaskanth</td>\n",
       "      <td>Amirgadh</td>\n",
       "      <td>Wheat</td>\n",
       "      <td>1800.0</td>\n",
       "      <td>1900.0</td>\n",
       "      <td>1850.0</td>\n",
       "      <td>2018.0</td>\n",
       "      <td>8.0</td>\n",
       "      <td>2.0</td>\n",
       "    </tr>\n",
       "  </tbody>\n",
       "</table>\n",
       "</div>"
      ],
      "text/plain": [
       "  District Name Market Name Commodity  Min Price(Rs.)  Max Price(Rs.)  \\\n",
       "0    Banaskanth    Amirgadh     Wheat          1565.0          1565.0   \n",
       "1    Banaskanth    Amirgadh     Wheat          1575.0          1705.0   \n",
       "2    Banaskanth    Amirgadh     Wheat          1650.0          1750.0   \n",
       "3    Banaskanth    Amirgadh     Wheat          1655.0          1720.0   \n",
       "4    Banaskanth    Amirgadh     Wheat          1800.0          1900.0   \n",
       "\n",
       "   Model Price    Year  Month   Day  \n",
       "0       1565.0  2018.0    2.0   2.0  \n",
       "1       1640.0  2018.0    6.0  11.0  \n",
       "2       1700.0  2018.0    7.0   7.0  \n",
       "3       1685.0  2018.0    7.0   5.0  \n",
       "4       1850.0  2018.0    8.0   2.0  "
      ]
     },
     "execution_count": 21,
     "metadata": {},
     "output_type": "execute_result"
    }
   ],
   "source": [
    "\n",
    "df.head()"
   ]
  },
  {
   "cell_type": "code",
   "execution_count": 56,
   "id": "314dd77e",
   "metadata": {},
   "outputs": [
    {
     "data": {
      "text/plain": [
       "District Name     0\n",
       "Market Name       0\n",
       "Commodity         0\n",
       "Min Price(Rs.)    0\n",
       "Max Price(Rs.)    0\n",
       "Model Price       0\n",
       "Year              0\n",
       "Month             0\n",
       "Day               0\n",
       "dtype: int64"
      ]
     },
     "execution_count": 56,
     "metadata": {},
     "output_type": "execute_result"
    }
   ],
   "source": [
    "df.isnull().sum()"
   ]
  },
  {
   "cell_type": "code",
   "execution_count": 63,
   "id": "fbf6da26",
   "metadata": {},
   "outputs": [],
   "source": [
    "\n",
    "X_train, X_test, y_train, y_test = train_test_split(X, y, test_size=0.2, random_state=42)\n"
   ]
  },
  {
   "cell_type": "code",
   "execution_count": 64,
   "id": "f46a65ea",
   "metadata": {},
   "outputs": [
    {
     "data": {
      "text/html": [
       "<style>#sk-container-id-5 {color: black;}#sk-container-id-5 pre{padding: 0;}#sk-container-id-5 div.sk-toggleable {background-color: white;}#sk-container-id-5 label.sk-toggleable__label {cursor: pointer;display: block;width: 100%;margin-bottom: 0;padding: 0.3em;box-sizing: border-box;text-align: center;}#sk-container-id-5 label.sk-toggleable__label-arrow:before {content: \"▸\";float: left;margin-right: 0.25em;color: #696969;}#sk-container-id-5 label.sk-toggleable__label-arrow:hover:before {color: black;}#sk-container-id-5 div.sk-estimator:hover label.sk-toggleable__label-arrow:before {color: black;}#sk-container-id-5 div.sk-toggleable__content {max-height: 0;max-width: 0;overflow: hidden;text-align: left;background-color: #f0f8ff;}#sk-container-id-5 div.sk-toggleable__content pre {margin: 0.2em;color: black;border-radius: 0.25em;background-color: #f0f8ff;}#sk-container-id-5 input.sk-toggleable__control:checked~div.sk-toggleable__content {max-height: 200px;max-width: 100%;overflow: auto;}#sk-container-id-5 input.sk-toggleable__control:checked~label.sk-toggleable__label-arrow:before {content: \"▾\";}#sk-container-id-5 div.sk-estimator input.sk-toggleable__control:checked~label.sk-toggleable__label {background-color: #d4ebff;}#sk-container-id-5 div.sk-label input.sk-toggleable__control:checked~label.sk-toggleable__label {background-color: #d4ebff;}#sk-container-id-5 input.sk-hidden--visually {border: 0;clip: rect(1px 1px 1px 1px);clip: rect(1px, 1px, 1px, 1px);height: 1px;margin: -1px;overflow: hidden;padding: 0;position: absolute;width: 1px;}#sk-container-id-5 div.sk-estimator {font-family: monospace;background-color: #f0f8ff;border: 1px dotted black;border-radius: 0.25em;box-sizing: border-box;margin-bottom: 0.5em;}#sk-container-id-5 div.sk-estimator:hover {background-color: #d4ebff;}#sk-container-id-5 div.sk-parallel-item::after {content: \"\";width: 100%;border-bottom: 1px solid gray;flex-grow: 1;}#sk-container-id-5 div.sk-label:hover label.sk-toggleable__label {background-color: #d4ebff;}#sk-container-id-5 div.sk-serial::before {content: \"\";position: absolute;border-left: 1px solid gray;box-sizing: border-box;top: 0;bottom: 0;left: 50%;z-index: 0;}#sk-container-id-5 div.sk-serial {display: flex;flex-direction: column;align-items: center;background-color: white;padding-right: 0.2em;padding-left: 0.2em;position: relative;}#sk-container-id-5 div.sk-item {position: relative;z-index: 1;}#sk-container-id-5 div.sk-parallel {display: flex;align-items: stretch;justify-content: center;background-color: white;position: relative;}#sk-container-id-5 div.sk-item::before, #sk-container-id-5 div.sk-parallel-item::before {content: \"\";position: absolute;border-left: 1px solid gray;box-sizing: border-box;top: 0;bottom: 0;left: 50%;z-index: -1;}#sk-container-id-5 div.sk-parallel-item {display: flex;flex-direction: column;z-index: 1;position: relative;background-color: white;}#sk-container-id-5 div.sk-parallel-item:first-child::after {align-self: flex-end;width: 50%;}#sk-container-id-5 div.sk-parallel-item:last-child::after {align-self: flex-start;width: 50%;}#sk-container-id-5 div.sk-parallel-item:only-child::after {width: 0;}#sk-container-id-5 div.sk-dashed-wrapped {border: 1px dashed gray;margin: 0 0.4em 0.5em 0.4em;box-sizing: border-box;padding-bottom: 0.4em;background-color: white;}#sk-container-id-5 div.sk-label label {font-family: monospace;font-weight: bold;display: inline-block;line-height: 1.2em;}#sk-container-id-5 div.sk-label-container {text-align: center;}#sk-container-id-5 div.sk-container {/* jupyter's `normalize.less` sets `[hidden] { display: none; }` but bootstrap.min.css set `[hidden] { display: none !important; }` so we also need the `!important` here to be able to override the default hidden behavior on the sphinx rendered scikit-learn.org. See: https://github.com/scikit-learn/scikit-learn/issues/21755 */display: inline-block !important;position: relative;}#sk-container-id-5 div.sk-text-repr-fallback {display: none;}</style><div id=\"sk-container-id-5\" class=\"sk-top-container\"><div class=\"sk-text-repr-fallback\"><pre>Pipeline(steps=[(&#x27;preprocessor&#x27;,\n",
       "                 ColumnTransformer(remainder=&#x27;passthrough&#x27;,\n",
       "                                   transformers=[(&#x27;district_name&#x27;,\n",
       "                                                  OrdinalEncoder(),\n",
       "                                                  [&#x27;District Name&#x27;]),\n",
       "                                                 (&#x27;market_name&#x27;,\n",
       "                                                  OrdinalEncoder(),\n",
       "                                                  [&#x27;Market Name&#x27;]),\n",
       "                                                 (&#x27;commodity&#x27;, OrdinalEncoder(),\n",
       "                                                  [&#x27;Commodity&#x27;])])),\n",
       "                (&#x27;scaler&#x27;, StandardScaler()), (&#x27;model&#x27;, LinearRegression())])</pre><b>In a Jupyter environment, please rerun this cell to show the HTML representation or trust the notebook. <br />On GitHub, the HTML representation is unable to render, please try loading this page with nbviewer.org.</b></div><div class=\"sk-container\" hidden><div class=\"sk-item sk-dashed-wrapped\"><div class=\"sk-label-container\"><div class=\"sk-label sk-toggleable\"><input class=\"sk-toggleable__control sk-hidden--visually\" id=\"sk-estimator-id-49\" type=\"checkbox\" ><label for=\"sk-estimator-id-49\" class=\"sk-toggleable__label sk-toggleable__label-arrow\">Pipeline</label><div class=\"sk-toggleable__content\"><pre>Pipeline(steps=[(&#x27;preprocessor&#x27;,\n",
       "                 ColumnTransformer(remainder=&#x27;passthrough&#x27;,\n",
       "                                   transformers=[(&#x27;district_name&#x27;,\n",
       "                                                  OrdinalEncoder(),\n",
       "                                                  [&#x27;District Name&#x27;]),\n",
       "                                                 (&#x27;market_name&#x27;,\n",
       "                                                  OrdinalEncoder(),\n",
       "                                                  [&#x27;Market Name&#x27;]),\n",
       "                                                 (&#x27;commodity&#x27;, OrdinalEncoder(),\n",
       "                                                  [&#x27;Commodity&#x27;])])),\n",
       "                (&#x27;scaler&#x27;, StandardScaler()), (&#x27;model&#x27;, LinearRegression())])</pre></div></div></div><div class=\"sk-serial\"><div class=\"sk-item sk-dashed-wrapped\"><div class=\"sk-label-container\"><div class=\"sk-label sk-toggleable\"><input class=\"sk-toggleable__control sk-hidden--visually\" id=\"sk-estimator-id-50\" type=\"checkbox\" ><label for=\"sk-estimator-id-50\" class=\"sk-toggleable__label sk-toggleable__label-arrow\">preprocessor: ColumnTransformer</label><div class=\"sk-toggleable__content\"><pre>ColumnTransformer(remainder=&#x27;passthrough&#x27;,\n",
       "                  transformers=[(&#x27;district_name&#x27;, OrdinalEncoder(),\n",
       "                                 [&#x27;District Name&#x27;]),\n",
       "                                (&#x27;market_name&#x27;, OrdinalEncoder(),\n",
       "                                 [&#x27;Market Name&#x27;]),\n",
       "                                (&#x27;commodity&#x27;, OrdinalEncoder(), [&#x27;Commodity&#x27;])])</pre></div></div></div><div class=\"sk-parallel\"><div class=\"sk-parallel-item\"><div class=\"sk-item\"><div class=\"sk-label-container\"><div class=\"sk-label sk-toggleable\"><input class=\"sk-toggleable__control sk-hidden--visually\" id=\"sk-estimator-id-51\" type=\"checkbox\" ><label for=\"sk-estimator-id-51\" class=\"sk-toggleable__label sk-toggleable__label-arrow\">district_name</label><div class=\"sk-toggleable__content\"><pre>[&#x27;District Name&#x27;]</pre></div></div></div><div class=\"sk-serial\"><div class=\"sk-item\"><div class=\"sk-estimator sk-toggleable\"><input class=\"sk-toggleable__control sk-hidden--visually\" id=\"sk-estimator-id-52\" type=\"checkbox\" ><label for=\"sk-estimator-id-52\" class=\"sk-toggleable__label sk-toggleable__label-arrow\">OrdinalEncoder</label><div class=\"sk-toggleable__content\"><pre>OrdinalEncoder()</pre></div></div></div></div></div></div><div class=\"sk-parallel-item\"><div class=\"sk-item\"><div class=\"sk-label-container\"><div class=\"sk-label sk-toggleable\"><input class=\"sk-toggleable__control sk-hidden--visually\" id=\"sk-estimator-id-53\" type=\"checkbox\" ><label for=\"sk-estimator-id-53\" class=\"sk-toggleable__label sk-toggleable__label-arrow\">market_name</label><div class=\"sk-toggleable__content\"><pre>[&#x27;Market Name&#x27;]</pre></div></div></div><div class=\"sk-serial\"><div class=\"sk-item\"><div class=\"sk-estimator sk-toggleable\"><input class=\"sk-toggleable__control sk-hidden--visually\" id=\"sk-estimator-id-54\" type=\"checkbox\" ><label for=\"sk-estimator-id-54\" class=\"sk-toggleable__label sk-toggleable__label-arrow\">OrdinalEncoder</label><div class=\"sk-toggleable__content\"><pre>OrdinalEncoder()</pre></div></div></div></div></div></div><div class=\"sk-parallel-item\"><div class=\"sk-item\"><div class=\"sk-label-container\"><div class=\"sk-label sk-toggleable\"><input class=\"sk-toggleable__control sk-hidden--visually\" id=\"sk-estimator-id-55\" type=\"checkbox\" ><label for=\"sk-estimator-id-55\" class=\"sk-toggleable__label sk-toggleable__label-arrow\">commodity</label><div class=\"sk-toggleable__content\"><pre>[&#x27;Commodity&#x27;]</pre></div></div></div><div class=\"sk-serial\"><div class=\"sk-item\"><div class=\"sk-estimator sk-toggleable\"><input class=\"sk-toggleable__control sk-hidden--visually\" id=\"sk-estimator-id-56\" type=\"checkbox\" ><label for=\"sk-estimator-id-56\" class=\"sk-toggleable__label sk-toggleable__label-arrow\">OrdinalEncoder</label><div class=\"sk-toggleable__content\"><pre>OrdinalEncoder()</pre></div></div></div></div></div></div><div class=\"sk-parallel-item\"><div class=\"sk-item\"><div class=\"sk-label-container\"><div class=\"sk-label sk-toggleable\"><input class=\"sk-toggleable__control sk-hidden--visually\" id=\"sk-estimator-id-57\" type=\"checkbox\" ><label for=\"sk-estimator-id-57\" class=\"sk-toggleable__label sk-toggleable__label-arrow\">remainder</label><div class=\"sk-toggleable__content\"><pre>[&#x27;Min Price(Rs.)&#x27;, &#x27;Max Price(Rs.)&#x27;, &#x27;Year&#x27;, &#x27;Month&#x27;, &#x27;Day&#x27;]</pre></div></div></div><div class=\"sk-serial\"><div class=\"sk-item\"><div class=\"sk-estimator sk-toggleable\"><input class=\"sk-toggleable__control sk-hidden--visually\" id=\"sk-estimator-id-58\" type=\"checkbox\" ><label for=\"sk-estimator-id-58\" class=\"sk-toggleable__label sk-toggleable__label-arrow\">passthrough</label><div class=\"sk-toggleable__content\"><pre>passthrough</pre></div></div></div></div></div></div></div></div><div class=\"sk-item\"><div class=\"sk-estimator sk-toggleable\"><input class=\"sk-toggleable__control sk-hidden--visually\" id=\"sk-estimator-id-59\" type=\"checkbox\" ><label for=\"sk-estimator-id-59\" class=\"sk-toggleable__label sk-toggleable__label-arrow\">StandardScaler</label><div class=\"sk-toggleable__content\"><pre>StandardScaler()</pre></div></div></div><div class=\"sk-item\"><div class=\"sk-estimator sk-toggleable\"><input class=\"sk-toggleable__control sk-hidden--visually\" id=\"sk-estimator-id-60\" type=\"checkbox\" ><label for=\"sk-estimator-id-60\" class=\"sk-toggleable__label sk-toggleable__label-arrow\">LinearRegression</label><div class=\"sk-toggleable__content\"><pre>LinearRegression()</pre></div></div></div></div></div></div></div>"
      ],
      "text/plain": [
       "Pipeline(steps=[('preprocessor',\n",
       "                 ColumnTransformer(remainder='passthrough',\n",
       "                                   transformers=[('district_name',\n",
       "                                                  OrdinalEncoder(),\n",
       "                                                  ['District Name']),\n",
       "                                                 ('market_name',\n",
       "                                                  OrdinalEncoder(),\n",
       "                                                  ['Market Name']),\n",
       "                                                 ('commodity', OrdinalEncoder(),\n",
       "                                                  ['Commodity'])])),\n",
       "                ('scaler', StandardScaler()), ('model', LinearRegression())])"
      ]
     },
     "execution_count": 64,
     "metadata": {},
     "output_type": "execute_result"
    }
   ],
   "source": [
    "pipeline.fit(X_train,y_train)"
   ]
  },
  {
   "cell_type": "code",
   "execution_count": 65,
   "id": "3eb0795e",
   "metadata": {},
   "outputs": [
    {
     "data": {
      "text/plain": [
       "array([1994.26844759, 7503.96483598, 1791.6600168 , ..., 2279.69719891,\n",
       "       1882.27805457, 2421.63182309])"
      ]
     },
     "execution_count": 65,
     "metadata": {},
     "output_type": "execute_result"
    }
   ],
   "source": [
    "pipeline.predict(X_test)"
   ]
  },
  {
   "cell_type": "code",
   "execution_count": 33,
   "id": "d8658f46",
   "metadata": {},
   "outputs": [
    {
     "data": {
      "text/html": [
       "<div>\n",
       "<style scoped>\n",
       "    .dataframe tbody tr th:only-of-type {\n",
       "        vertical-align: middle;\n",
       "    }\n",
       "\n",
       "    .dataframe tbody tr th {\n",
       "        vertical-align: top;\n",
       "    }\n",
       "\n",
       "    .dataframe thead th {\n",
       "        text-align: right;\n",
       "    }\n",
       "</style>\n",
       "<table border=\"1\" class=\"dataframe\">\n",
       "  <thead>\n",
       "    <tr style=\"text-align: right;\">\n",
       "      <th></th>\n",
       "      <th>District Name</th>\n",
       "      <th>Market Name</th>\n",
       "      <th>Commodity</th>\n",
       "      <th>Min Price(Rs.)</th>\n",
       "      <th>Max Price(Rs.)</th>\n",
       "      <th>Model Price</th>\n",
       "      <th>Year</th>\n",
       "      <th>Month</th>\n",
       "      <th>Day</th>\n",
       "    </tr>\n",
       "  </thead>\n",
       "  <tbody>\n",
       "  </tbody>\n",
       "</table>\n",
       "</div>"
      ],
      "text/plain": [
       "Empty DataFrame\n",
       "Columns: [District Name, Market Name, Commodity, Min Price(Rs.), Max Price(Rs.), Model Price, Year, Month, Day]\n",
       "Index: []"
      ]
     },
     "execution_count": 33,
     "metadata": {},
     "output_type": "execute_result"
    }
   ],
   "source": [
    "df[df['District Name']=='Khambhat']"
   ]
  },
  {
   "cell_type": "code",
   "execution_count": 35,
   "id": "28a58a6f",
   "metadata": {},
   "outputs": [],
   "source": [
    "count = (df['District Name'] == 'Khambhat').sum()"
   ]
  },
  {
   "cell_type": "code",
   "execution_count": 36,
   "id": "db24bc40",
   "metadata": {},
   "outputs": [
    {
     "data": {
      "text/plain": [
       "0"
      ]
     },
     "execution_count": 36,
     "metadata": {},
     "output_type": "execute_result"
    }
   ],
   "source": [
    "count"
   ]
  },
  {
   "cell_type": "code",
   "execution_count": 37,
   "id": "d7a342e7",
   "metadata": {},
   "outputs": [
    {
     "data": {
      "text/html": [
       "<div>\n",
       "<style scoped>\n",
       "    .dataframe tbody tr th:only-of-type {\n",
       "        vertical-align: middle;\n",
       "    }\n",
       "\n",
       "    .dataframe tbody tr th {\n",
       "        vertical-align: top;\n",
       "    }\n",
       "\n",
       "    .dataframe thead th {\n",
       "        text-align: right;\n",
       "    }\n",
       "</style>\n",
       "<table border=\"1\" class=\"dataframe\">\n",
       "  <thead>\n",
       "    <tr style=\"text-align: right;\">\n",
       "      <th></th>\n",
       "      <th>District Name</th>\n",
       "      <th>Market Name</th>\n",
       "      <th>Commodity</th>\n",
       "      <th>Min Price(Rs.)</th>\n",
       "      <th>Max Price(Rs.)</th>\n",
       "      <th>Year</th>\n",
       "      <th>Month</th>\n",
       "      <th>Day</th>\n",
       "    </tr>\n",
       "  </thead>\n",
       "  <tbody>\n",
       "    <tr>\n",
       "      <th>154623</th>\n",
       "      <td>Bhavnagar</td>\n",
       "      <td>Mahuva(Station Road)</td>\n",
       "      <td>Groundnut</td>\n",
       "      <td>4910.0</td>\n",
       "      <td>6565.0</td>\n",
       "      <td>2021.0</td>\n",
       "      <td>6.0</td>\n",
       "      <td>11.0</td>\n",
       "    </tr>\n",
       "    <tr>\n",
       "      <th>139155</th>\n",
       "      <td>Jamnagar</td>\n",
       "      <td>Dhrol</td>\n",
       "      <td>Green Gram (Moong)(Whole)</td>\n",
       "      <td>4850.0</td>\n",
       "      <td>7005.0</td>\n",
       "      <td>2019.0</td>\n",
       "      <td>10.0</td>\n",
       "      <td>19.0</td>\n",
       "    </tr>\n",
       "    <tr>\n",
       "      <th>52039</th>\n",
       "      <td>Rajkot</td>\n",
       "      <td>Rajkot</td>\n",
       "      <td>Wheat</td>\n",
       "      <td>1765.0</td>\n",
       "      <td>2030.0</td>\n",
       "      <td>2021.0</td>\n",
       "      <td>7.0</td>\n",
       "      <td>22.0</td>\n",
       "    </tr>\n",
       "    <tr>\n",
       "      <th>100616</th>\n",
       "      <td>Dahod</td>\n",
       "      <td>Dahod</td>\n",
       "      <td>Groundnut</td>\n",
       "      <td>5000.0</td>\n",
       "      <td>5800.0</td>\n",
       "      <td>2022.0</td>\n",
       "      <td>1.0</td>\n",
       "      <td>4.0</td>\n",
       "    </tr>\n",
       "    <tr>\n",
       "      <th>78604</th>\n",
       "      <td>Junagarh</td>\n",
       "      <td>Visavadar</td>\n",
       "      <td>Soyabean</td>\n",
       "      <td>4810.0</td>\n",
       "      <td>5380.0</td>\n",
       "      <td>2022.0</td>\n",
       "      <td>11.0</td>\n",
       "      <td>3.0</td>\n",
       "    </tr>\n",
       "    <tr>\n",
       "      <th>...</th>\n",
       "      <td>...</td>\n",
       "      <td>...</td>\n",
       "      <td>...</td>\n",
       "      <td>...</td>\n",
       "      <td>...</td>\n",
       "      <td>...</td>\n",
       "      <td>...</td>\n",
       "      <td>...</td>\n",
       "    </tr>\n",
       "    <tr>\n",
       "      <th>13968</th>\n",
       "      <td>Porbandar</td>\n",
       "      <td>Porbandar</td>\n",
       "      <td>Wheat</td>\n",
       "      <td>1665.0</td>\n",
       "      <td>1705.0</td>\n",
       "      <td>2019.0</td>\n",
       "      <td>5.0</td>\n",
       "      <td>8.0</td>\n",
       "    </tr>\n",
       "    <tr>\n",
       "      <th>190546</th>\n",
       "      <td>Bhavnagar</td>\n",
       "      <td>Taleja</td>\n",
       "      <td>Green Gram (Moong)(Whole)</td>\n",
       "      <td>6505.0</td>\n",
       "      <td>6845.0</td>\n",
       "      <td>2022.0</td>\n",
       "      <td>5.0</td>\n",
       "      <td>7.0</td>\n",
       "    </tr>\n",
       "    <tr>\n",
       "      <th>14351</th>\n",
       "      <td>Patan</td>\n",
       "      <td>Siddhpur</td>\n",
       "      <td>Wheat</td>\n",
       "      <td>2030.0</td>\n",
       "      <td>2225.0</td>\n",
       "      <td>2019.0</td>\n",
       "      <td>10.0</td>\n",
       "      <td>18.0</td>\n",
       "    </tr>\n",
       "    <tr>\n",
       "      <th>95579</th>\n",
       "      <td>Rajkot</td>\n",
       "      <td>Jasdan</td>\n",
       "      <td>Soyabean</td>\n",
       "      <td>5000.0</td>\n",
       "      <td>5450.0</td>\n",
       "      <td>2023.0</td>\n",
       "      <td>1.0</td>\n",
       "      <td>7.0</td>\n",
       "    </tr>\n",
       "    <tr>\n",
       "      <th>28550</th>\n",
       "      <td>Amreli</td>\n",
       "      <td>Rajula</td>\n",
       "      <td>Moath Dal</td>\n",
       "      <td>8625.0</td>\n",
       "      <td>9010.0</td>\n",
       "      <td>2022.0</td>\n",
       "      <td>11.0</td>\n",
       "      <td>29.0</td>\n",
       "    </tr>\n",
       "  </tbody>\n",
       "</table>\n",
       "<p>38294 rows × 8 columns</p>\n",
       "</div>"
      ],
      "text/plain": [
       "       District Name           Market Name                  Commodity  \\\n",
       "154623     Bhavnagar  Mahuva(Station Road)                  Groundnut   \n",
       "139155      Jamnagar                 Dhrol  Green Gram (Moong)(Whole)   \n",
       "52039         Rajkot                Rajkot                      Wheat   \n",
       "100616         Dahod                 Dahod                  Groundnut   \n",
       "78604       Junagarh             Visavadar                   Soyabean   \n",
       "...              ...                   ...                        ...   \n",
       "13968      Porbandar             Porbandar                      Wheat   \n",
       "190546     Bhavnagar                Taleja  Green Gram (Moong)(Whole)   \n",
       "14351          Patan              Siddhpur                      Wheat   \n",
       "95579         Rajkot                Jasdan                   Soyabean   \n",
       "28550         Amreli                Rajula                  Moath Dal   \n",
       "\n",
       "        Min Price(Rs.)  Max Price(Rs.)    Year  Month   Day  \n",
       "154623          4910.0          6565.0  2021.0    6.0  11.0  \n",
       "139155          4850.0          7005.0  2019.0   10.0  19.0  \n",
       "52039           1765.0          2030.0  2021.0    7.0  22.0  \n",
       "100616          5000.0          5800.0  2022.0    1.0   4.0  \n",
       "78604           4810.0          5380.0  2022.0   11.0   3.0  \n",
       "...                ...             ...     ...    ...   ...  \n",
       "13968           1665.0          1705.0  2019.0    5.0   8.0  \n",
       "190546          6505.0          6845.0  2022.0    5.0   7.0  \n",
       "14351           2030.0          2225.0  2019.0   10.0  18.0  \n",
       "95579           5000.0          5450.0  2023.0    1.0   7.0  \n",
       "28550           8625.0          9010.0  2022.0   11.0  29.0  \n",
       "\n",
       "[38294 rows x 8 columns]"
      ]
     },
     "execution_count": 37,
     "metadata": {},
     "output_type": "execute_result"
    }
   ],
   "source": [
    "X_test"
   ]
  },
  {
   "cell_type": "code",
   "execution_count": 38,
   "id": "bc8db708",
   "metadata": {
    "scrolled": true
   },
   "outputs": [
    {
     "name": "stdout",
     "output_type": "stream",
     "text": [
      "['Junagarh' 'Surat' 'Bhavnagar' 'Rajkot' 'Amreli' 'Banaskanth'\n",
      " 'Sabarkantha' 'Dahod' 'Jamnagar' 'Kheda' 'Mehsana' 'Chhota Udaipur'\n",
      " 'Patan' 'Morbi' 'Botad' 'Gandhinagar' 'Bharuch' 'Anand'\n",
      " 'Vadodara(Baroda)' 'Porbandar' 'Ahmedabad' 'Gir Somnath'\n",
      " 'Devbhumi Dwarka' 'Surendranagar' 'Panchmahals' 'Kachchh' 'Narmada']\n"
     ]
    }
   ],
   "source": [
    "print(df['District Name'].unique())"
   ]
  },
  {
   "cell_type": "code",
   "execution_count": 43,
   "id": "47047467",
   "metadata": {},
   "outputs": [
    {
     "data": {
      "text/html": [
       "<div>\n",
       "<style scoped>\n",
       "    .dataframe tbody tr th:only-of-type {\n",
       "        vertical-align: middle;\n",
       "    }\n",
       "\n",
       "    .dataframe tbody tr th {\n",
       "        vertical-align: top;\n",
       "    }\n",
       "\n",
       "    .dataframe thead th {\n",
       "        text-align: right;\n",
       "    }\n",
       "</style>\n",
       "<table border=\"1\" class=\"dataframe\">\n",
       "  <thead>\n",
       "    <tr style=\"text-align: right;\">\n",
       "      <th></th>\n",
       "      <th>District Name</th>\n",
       "      <th>Market Name</th>\n",
       "      <th>Commodity</th>\n",
       "      <th>Min Price(Rs.)</th>\n",
       "      <th>Max Price(Rs.)</th>\n",
       "      <th>Model Price</th>\n",
       "      <th>Year</th>\n",
       "      <th>Month</th>\n",
       "      <th>Day</th>\n",
       "    </tr>\n",
       "  </thead>\n",
       "  <tbody>\n",
       "    <tr>\n",
       "      <th>161614</th>\n",
       "      <td>Anand</td>\n",
       "      <td>Khambhat</td>\n",
       "      <td>Cotton</td>\n",
       "      <td>3300.0</td>\n",
       "      <td>3400.0</td>\n",
       "      <td>3350.0</td>\n",
       "      <td>2018.0</td>\n",
       "      <td>9.0</td>\n",
       "      <td>18.0</td>\n",
       "    </tr>\n",
       "  </tbody>\n",
       "</table>\n",
       "</div>"
      ],
      "text/plain": [
       "       District Name Market Name Commodity  Min Price(Rs.)  Max Price(Rs.)  \\\n",
       "161614         Anand    Khambhat    Cotton          3300.0          3400.0   \n",
       "\n",
       "        Model Price    Year  Month   Day  \n",
       "161614       3350.0  2018.0    9.0  18.0  "
      ]
     },
     "execution_count": 43,
     "metadata": {},
     "output_type": "execute_result"
    }
   ],
   "source": [
    "df[df['Market Name']=='Khambhat']"
   ]
  },
  {
   "cell_type": "code",
   "execution_count": 60,
   "id": "3c4b50ee",
   "metadata": {},
   "outputs": [],
   "source": [
    "df=df[df['Market Name']!='Lalpur']"
   ]
  },
  {
   "cell_type": "code",
   "execution_count": 61,
   "id": "f5474316",
   "metadata": {},
   "outputs": [],
   "source": [
    "df=df[df['District Name']!='Lalpur']"
   ]
  },
  {
   "cell_type": "code",
   "execution_count": 66,
   "id": "1884aaba",
   "metadata": {},
   "outputs": [
    {
     "data": {
      "text/html": [
       "<div>\n",
       "<style scoped>\n",
       "    .dataframe tbody tr th:only-of-type {\n",
       "        vertical-align: middle;\n",
       "    }\n",
       "\n",
       "    .dataframe tbody tr th {\n",
       "        vertical-align: top;\n",
       "    }\n",
       "\n",
       "    .dataframe thead th {\n",
       "        text-align: right;\n",
       "    }\n",
       "</style>\n",
       "<table border=\"1\" class=\"dataframe\">\n",
       "  <thead>\n",
       "    <tr style=\"text-align: right;\">\n",
       "      <th></th>\n",
       "      <th>District Name</th>\n",
       "      <th>Market Name</th>\n",
       "      <th>Commodity</th>\n",
       "      <th>Min Price(Rs.)</th>\n",
       "      <th>Max Price(Rs.)</th>\n",
       "      <th>Year</th>\n",
       "      <th>Month</th>\n",
       "      <th>Day</th>\n",
       "    </tr>\n",
       "  </thead>\n",
       "  <tbody>\n",
       "    <tr>\n",
       "      <th>144064</th>\n",
       "      <td>Sabarkantha</td>\n",
       "      <td>Talod</td>\n",
       "      <td>Wheat</td>\n",
       "      <td>2600.0</td>\n",
       "      <td>3055.0</td>\n",
       "      <td>2024.0</td>\n",
       "      <td>1.0</td>\n",
       "      <td>17.0</td>\n",
       "    </tr>\n",
       "    <tr>\n",
       "      <th>84555</th>\n",
       "      <td>Rajkot</td>\n",
       "      <td>Rajkot</td>\n",
       "      <td>Groundnut</td>\n",
       "      <td>5700.0</td>\n",
       "      <td>6390.0</td>\n",
       "      <td>2024.0</td>\n",
       "      <td>7.0</td>\n",
       "      <td>4.0</td>\n",
       "    </tr>\n",
       "    <tr>\n",
       "      <th>42603</th>\n",
       "      <td>Bhavnagar</td>\n",
       "      <td>Taleja</td>\n",
       "      <td>Groundnut</td>\n",
       "      <td>5000.0</td>\n",
       "      <td>6250.0</td>\n",
       "      <td>2024.0</td>\n",
       "      <td>4.0</td>\n",
       "      <td>1.0</td>\n",
       "    </tr>\n",
       "    <tr>\n",
       "      <th>135183</th>\n",
       "      <td>Amreli</td>\n",
       "      <td>Rajula</td>\n",
       "      <td>Soyabean</td>\n",
       "      <td>5105.0</td>\n",
       "      <td>5150.0</td>\n",
       "      <td>2022.0</td>\n",
       "      <td>12.0</td>\n",
       "      <td>16.0</td>\n",
       "    </tr>\n",
       "    <tr>\n",
       "      <th>64125</th>\n",
       "      <td>Bhavnagar</td>\n",
       "      <td>Mahuva(Station Road)</td>\n",
       "      <td>Groundnut</td>\n",
       "      <td>4520.0</td>\n",
       "      <td>4520.0</td>\n",
       "      <td>2021.0</td>\n",
       "      <td>9.0</td>\n",
       "      <td>27.0</td>\n",
       "    </tr>\n",
       "  </tbody>\n",
       "</table>\n",
       "</div>"
      ],
      "text/plain": [
       "       District Name           Market Name  Commodity  Min Price(Rs.)  \\\n",
       "144064   Sabarkantha                 Talod      Wheat          2600.0   \n",
       "84555         Rajkot                Rajkot  Groundnut          5700.0   \n",
       "42603      Bhavnagar                Taleja  Groundnut          5000.0   \n",
       "135183        Amreli                Rajula   Soyabean          5105.0   \n",
       "64125      Bhavnagar  Mahuva(Station Road)  Groundnut          4520.0   \n",
       "\n",
       "        Max Price(Rs.)    Year  Month   Day  \n",
       "144064          3055.0  2024.0    1.0  17.0  \n",
       "84555           6390.0  2024.0    7.0   4.0  \n",
       "42603           6250.0  2024.0    4.0   1.0  \n",
       "135183          5150.0  2022.0   12.0  16.0  \n",
       "64125           4520.0  2021.0    9.0  27.0  "
      ]
     },
     "execution_count": 66,
     "metadata": {},
     "output_type": "execute_result"
    }
   ],
   "source": [
    "X_train.head()"
   ]
  },
  {
   "cell_type": "code",
   "execution_count": 68,
   "id": "4de6cfa6",
   "metadata": {},
   "outputs": [
    {
     "data": {
      "text/plain": [
       "District Name     Sabarkantha\n",
       "Market Name             Talod\n",
       "Commodity               Wheat\n",
       "Min Price(Rs.)         2600.0\n",
       "Max Price(Rs.)         3055.0\n",
       "Year                   2024.0\n",
       "Month                     1.0\n",
       "Day                      17.0\n",
       "Name: 144064, dtype: object"
      ]
     },
     "execution_count": 68,
     "metadata": {},
     "output_type": "execute_result"
    }
   ],
   "source": [
    "X_train.iloc[0]"
   ]
  },
  {
   "cell_type": "code",
   "execution_count": 78,
   "id": "f5321de0",
   "metadata": {},
   "outputs": [
    {
     "data": {
      "text/html": [
       "<div>\n",
       "<style scoped>\n",
       "    .dataframe tbody tr th:only-of-type {\n",
       "        vertical-align: middle;\n",
       "    }\n",
       "\n",
       "    .dataframe tbody tr th {\n",
       "        vertical-align: top;\n",
       "    }\n",
       "\n",
       "    .dataframe thead th {\n",
       "        text-align: right;\n",
       "    }\n",
       "</style>\n",
       "<table border=\"1\" class=\"dataframe\">\n",
       "  <thead>\n",
       "    <tr style=\"text-align: right;\">\n",
       "      <th></th>\n",
       "      <th>144064</th>\n",
       "    </tr>\n",
       "  </thead>\n",
       "  <tbody>\n",
       "    <tr>\n",
       "      <th>District Name</th>\n",
       "      <td>Sabarkantha</td>\n",
       "    </tr>\n",
       "    <tr>\n",
       "      <th>Market Name</th>\n",
       "      <td>Talod</td>\n",
       "    </tr>\n",
       "    <tr>\n",
       "      <th>Commodity</th>\n",
       "      <td>Wheat</td>\n",
       "    </tr>\n",
       "    <tr>\n",
       "      <th>Min Price(Rs.)</th>\n",
       "      <td>2600.0</td>\n",
       "    </tr>\n",
       "    <tr>\n",
       "      <th>Max Price(Rs.)</th>\n",
       "      <td>3055.0</td>\n",
       "    </tr>\n",
       "    <tr>\n",
       "      <th>Year</th>\n",
       "      <td>2024.0</td>\n",
       "    </tr>\n",
       "    <tr>\n",
       "      <th>Month</th>\n",
       "      <td>1.0</td>\n",
       "    </tr>\n",
       "    <tr>\n",
       "      <th>Day</th>\n",
       "      <td>17.0</td>\n",
       "    </tr>\n",
       "  </tbody>\n",
       "</table>\n",
       "</div>"
      ],
      "text/plain": [
       "                     144064\n",
       "District Name   Sabarkantha\n",
       "Market Name           Talod\n",
       "Commodity             Wheat\n",
       "Min Price(Rs.)       2600.0\n",
       "Max Price(Rs.)       3055.0\n",
       "Year                 2024.0\n",
       "Month                   1.0\n",
       "Day                    17.0"
      ]
     },
     "execution_count": 78,
     "metadata": {},
     "output_type": "execute_result"
    }
   ],
   "source": [
    "pd.DataFrame(X_train.iloc[0])"
   ]
  },
  {
   "cell_type": "code",
   "execution_count": null,
   "id": "52e8bc6a",
   "metadata": {},
   "outputs": [],
   "source": []
  },
  {
   "cell_type": "code",
   "execution_count": null,
   "id": "b1a151ee",
   "metadata": {},
   "outputs": [],
   "source": []
  },
  {
   "cell_type": "code",
   "execution_count": 79,
   "id": "e4ddab13",
   "metadata": {},
   "outputs": [],
   "source": [
    "first_row = X_train.iloc[0]\n",
    "reshaped_first_row = pd.DataFrame([first_row], columns=X_train.columns)"
   ]
  },
  {
   "cell_type": "code",
   "execution_count": 86,
   "id": "a862d903",
   "metadata": {},
   "outputs": [],
   "source": [
    "first_row = pd.DataFrame([X_train.iloc[0].values], columns=X_train.columns)"
   ]
  },
  {
   "cell_type": "code",
   "execution_count": 87,
   "id": "9981be92",
   "metadata": {},
   "outputs": [
    {
     "data": {
      "text/plain": [
       "array([2860.2819386])"
      ]
     },
     "execution_count": 87,
     "metadata": {},
     "output_type": "execute_result"
    }
   ],
   "source": [
    "pipeline.predict(first_row)"
   ]
  },
  {
   "cell_type": "code",
   "execution_count": 88,
   "id": "6b8138d2",
   "metadata": {},
   "outputs": [
    {
     "data": {
      "text/html": [
       "<div>\n",
       "<style scoped>\n",
       "    .dataframe tbody tr th:only-of-type {\n",
       "        vertical-align: middle;\n",
       "    }\n",
       "\n",
       "    .dataframe tbody tr th {\n",
       "        vertical-align: top;\n",
       "    }\n",
       "\n",
       "    .dataframe thead th {\n",
       "        text-align: right;\n",
       "    }\n",
       "</style>\n",
       "<table border=\"1\" class=\"dataframe\">\n",
       "  <thead>\n",
       "    <tr style=\"text-align: right;\">\n",
       "      <th></th>\n",
       "      <th>District Name</th>\n",
       "      <th>Market Name</th>\n",
       "      <th>Commodity</th>\n",
       "      <th>Min Price(Rs.)</th>\n",
       "      <th>Max Price(Rs.)</th>\n",
       "      <th>Year</th>\n",
       "      <th>Month</th>\n",
       "      <th>Day</th>\n",
       "    </tr>\n",
       "  </thead>\n",
       "  <tbody>\n",
       "    <tr>\n",
       "      <th>0</th>\n",
       "      <td>Sabarkantha</td>\n",
       "      <td>Talod</td>\n",
       "      <td>Wheat</td>\n",
       "      <td>2600.0</td>\n",
       "      <td>3055.0</td>\n",
       "      <td>2024.0</td>\n",
       "      <td>1.0</td>\n",
       "      <td>17.0</td>\n",
       "    </tr>\n",
       "  </tbody>\n",
       "</table>\n",
       "</div>"
      ],
      "text/plain": [
       "  District Name Market Name Commodity  Min Price(Rs.)  Max Price(Rs.)    Year  \\\n",
       "0   Sabarkantha       Talod     Wheat          2600.0          3055.0  2024.0   \n",
       "\n",
       "   Month   Day  \n",
       "0    1.0  17.0  "
      ]
     },
     "execution_count": 88,
     "metadata": {},
     "output_type": "execute_result"
    }
   ],
   "source": [
    "first_row"
   ]
  },
  {
   "cell_type": "code",
   "execution_count": 89,
   "id": "3a63d04b",
   "metadata": {},
   "outputs": [
    {
     "data": {
      "text/plain": [
       "array(['Sabarkantha', 'Talod', 'Wheat', 2600.0, 3055.0, 2024.0, 1.0, 17.0],\n",
       "      dtype=object)"
      ]
     },
     "execution_count": 89,
     "metadata": {},
     "output_type": "execute_result"
    }
   ],
   "source": [
    "X_train.iloc[0].values"
   ]
  },
  {
   "cell_type": "code",
   "execution_count": 90,
   "id": "5ab46471",
   "metadata": {},
   "outputs": [
    {
     "data": {
      "text/plain": [
       "District Name     Sabarkantha\n",
       "Market Name             Talod\n",
       "Commodity               Wheat\n",
       "Min Price(Rs.)         2600.0\n",
       "Max Price(Rs.)         3055.0\n",
       "Year                   2024.0\n",
       "Month                     1.0\n",
       "Day                      17.0\n",
       "Name: 144064, dtype: object"
      ]
     },
     "execution_count": 90,
     "metadata": {},
     "output_type": "execute_result"
    }
   ],
   "source": [
    " X_train.iloc[0]"
   ]
  },
  {
   "cell_type": "code",
   "execution_count": null,
   "id": "4f0a1218",
   "metadata": {},
   "outputs": [],
   "source": []
  }
 ],
 "metadata": {
  "kernelspec": {
   "display_name": "Python 3 (ipykernel)",
   "language": "python",
   "name": "python3"
  },
  "language_info": {
   "codemirror_mode": {
    "name": "ipython",
    "version": 3
   },
   "file_extension": ".py",
   "mimetype": "text/x-python",
   "name": "python",
   "nbconvert_exporter": "python",
   "pygments_lexer": "ipython3",
   "version": "3.11.5"
  }
 },
 "nbformat": 4,
 "nbformat_minor": 5
}
