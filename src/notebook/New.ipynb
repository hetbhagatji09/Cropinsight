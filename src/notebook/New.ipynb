{
 "cells": [
  {
   "cell_type": "code",
   "execution_count": 1,
   "id": "b68511e2",
   "metadata": {},
   "outputs": [],
   "source": [
    "from sklearn.linear_model import LinearRegression\n",
    "# Basic Import\n",
    "import numpy as np\n",
    "import pandas as pd\n",
    "import matplotlib.pyplot as plt \n",
    "import seaborn as sns\n",
    "# Modelling\n",
    "from sklearn.metrics import mean_squared_error, r2_score\n",
    "from sklearn.neighbors import KNeighborsRegressor\n",
    "from sklearn.tree import DecisionTreeRegressor\n",
    "from sklearn.ensemble import RandomForestRegressor,AdaBoostRegressor,GradientBoostingRegressor\n",
    "from sklearn.svm import SVR\n",
    "from sklearn.linear_model import LinearRegression, Ridge,Lasso\n",
    "from sklearn.metrics import r2_score, mean_absolute_error, mean_squared_error\n",
    "from sklearn.model_selection import RandomizedSearchCV\n",
    "#from catboost import CatBoostRegressor\n",
    "from xgboost import XGBRegressor\n",
    "import warnings\n",
    "import matplotlib.pyplot as plt\n",
    "import seaborn as sns"
   ]
  },
  {
   "cell_type": "code",
   "execution_count": 33,
   "id": "93767b11",
   "metadata": {},
   "outputs": [],
   "source": [
    "df=pd.read_excel('data/New.xlsx')"
   ]
  },
  {
   "cell_type": "code",
   "execution_count": 34,
   "id": "6ae6d3db",
   "metadata": {},
   "outputs": [],
   "source": [
    "df.drop(['Unnamed: 0','Unnamed: 1','Variety','Grade'],axis=1,inplace=True)"
   ]
  },
  {
   "cell_type": "code",
   "execution_count": 35,
   "id": "0d9163c0",
   "metadata": {},
   "outputs": [],
   "source": [
    "df['Year']=df['Date'].dt.year\n",
    "df['Month']=df['Date'].dt.month\n",
    "df['Day']=df['Date'].dt.day"
   ]
  },
  {
   "cell_type": "code",
   "execution_count": 36,
   "id": "bdebd8c4",
   "metadata": {},
   "outputs": [],
   "source": [
    "df=df.dropna()"
   ]
  },
  {
   "cell_type": "code",
   "execution_count": 37,
   "id": "a3deb9a6",
   "metadata": {},
   "outputs": [
    {
     "data": {
      "text/html": [
       "<div>\n",
       "<style scoped>\n",
       "    .dataframe tbody tr th:only-of-type {\n",
       "        vertical-align: middle;\n",
       "    }\n",
       "\n",
       "    .dataframe tbody tr th {\n",
       "        vertical-align: top;\n",
       "    }\n",
       "\n",
       "    .dataframe thead th {\n",
       "        text-align: right;\n",
       "    }\n",
       "</style>\n",
       "<table border=\"1\" class=\"dataframe\">\n",
       "  <thead>\n",
       "    <tr style=\"text-align: right;\">\n",
       "      <th></th>\n",
       "      <th>District Name</th>\n",
       "      <th>Market Name</th>\n",
       "      <th>Commodity</th>\n",
       "      <th>Min Price(Rs.)</th>\n",
       "      <th>Max Price(Rs.)</th>\n",
       "      <th>Model Price</th>\n",
       "      <th>Date</th>\n",
       "      <th>Year</th>\n",
       "      <th>Month</th>\n",
       "      <th>Day</th>\n",
       "    </tr>\n",
       "  </thead>\n",
       "  <tbody>\n",
       "    <tr>\n",
       "      <th>0</th>\n",
       "      <td>Junagarh</td>\n",
       "      <td>Junagadh</td>\n",
       "      <td>Soyabean</td>\n",
       "      <td>2750.0</td>\n",
       "      <td>3500.0</td>\n",
       "      <td>3125.0</td>\n",
       "      <td>2018-06-13</td>\n",
       "      <td>2018.0</td>\n",
       "      <td>6.0</td>\n",
       "      <td>13.0</td>\n",
       "    </tr>\n",
       "    <tr>\n",
       "      <th>1</th>\n",
       "      <td>Surat</td>\n",
       "      <td>S.Mandvi</td>\n",
       "      <td>Green Gram (Moong)(Whole)</td>\n",
       "      <td>5750.0</td>\n",
       "      <td>6710.0</td>\n",
       "      <td>6230.0</td>\n",
       "      <td>2020-06-14</td>\n",
       "      <td>2020.0</td>\n",
       "      <td>6.0</td>\n",
       "      <td>14.0</td>\n",
       "    </tr>\n",
       "    <tr>\n",
       "      <th>2</th>\n",
       "      <td>Bhavnagar</td>\n",
       "      <td>Bhavnagar</td>\n",
       "      <td>Wheat</td>\n",
       "      <td>2345.0</td>\n",
       "      <td>2365.0</td>\n",
       "      <td>2355.0</td>\n",
       "      <td>2022-07-25</td>\n",
       "      <td>2022.0</td>\n",
       "      <td>7.0</td>\n",
       "      <td>25.0</td>\n",
       "    </tr>\n",
       "    <tr>\n",
       "      <th>3</th>\n",
       "      <td>Rajkot</td>\n",
       "      <td>Dhoraji</td>\n",
       "      <td>Wheat</td>\n",
       "      <td>2405.0</td>\n",
       "      <td>2590.0</td>\n",
       "      <td>2570.0</td>\n",
       "      <td>2024-06-04</td>\n",
       "      <td>2024.0</td>\n",
       "      <td>6.0</td>\n",
       "      <td>4.0</td>\n",
       "    </tr>\n",
       "    <tr>\n",
       "      <th>4</th>\n",
       "      <td>Amreli</td>\n",
       "      <td>Amreli</td>\n",
       "      <td>Wheat</td>\n",
       "      <td>2250.0</td>\n",
       "      <td>3090.0</td>\n",
       "      <td>2905.0</td>\n",
       "      <td>2023-02-04</td>\n",
       "      <td>2023.0</td>\n",
       "      <td>2.0</td>\n",
       "      <td>4.0</td>\n",
       "    </tr>\n",
       "  </tbody>\n",
       "</table>\n",
       "</div>"
      ],
      "text/plain": [
       "  District Name Market Name                  Commodity  Min Price(Rs.)  \\\n",
       "0      Junagarh    Junagadh                   Soyabean          2750.0   \n",
       "1         Surat    S.Mandvi  Green Gram (Moong)(Whole)          5750.0   \n",
       "2     Bhavnagar   Bhavnagar                      Wheat          2345.0   \n",
       "3        Rajkot     Dhoraji                      Wheat          2405.0   \n",
       "4        Amreli      Amreli                      Wheat          2250.0   \n",
       "\n",
       "   Max Price(Rs.)  Model Price       Date    Year  Month   Day  \n",
       "0          3500.0       3125.0 2018-06-13  2018.0    6.0  13.0  \n",
       "1          6710.0       6230.0 2020-06-14  2020.0    6.0  14.0  \n",
       "2          2365.0       2355.0 2022-07-25  2022.0    7.0  25.0  \n",
       "3          2590.0       2570.0 2024-06-04  2024.0    6.0   4.0  \n",
       "4          3090.0       2905.0 2023-02-04  2023.0    2.0   4.0  "
      ]
     },
     "execution_count": 37,
     "metadata": {},
     "output_type": "execute_result"
    }
   ],
   "source": [
    "df = df.sample(frac=1, random_state=42).reset_index(drop=True)\n",
    "df.head()"
   ]
  },
  {
   "cell_type": "code",
   "execution_count": 38,
   "id": "cf99b562",
   "metadata": {},
   "outputs": [],
   "source": [
    "from sklearn.compose import ColumnTransformer\n",
    "from sklearn.pipeline import Pipeline\n",
    "from sklearn.model_selection import train_test_split\n",
    "from sklearn.preprocessing import LabelEncoder,OneHotEncoder,StandardScaler,OrdinalEncoder\n",
    "from sklearn.linear_model import LinearRegression"
   ]
  },
  {
   "cell_type": "code",
   "execution_count": 80,
   "id": "e1c93784",
   "metadata": {},
   "outputs": [],
   "source": [
    "X=df.drop('Model Price',axis=1)\n",
    "y=df['Model Price']"
   ]
  },
  {
   "cell_type": "code",
   "execution_count": 96,
   "id": "feaf09a6",
   "metadata": {},
   "outputs": [],
   "source": [
    "from sklearn.compose import ColumnTransformer\n",
    "from sklearn.pipeline import Pipeline\n",
    "from sklearn.preprocessing import StandardScaler, OneHotEncoder\n",
    "import xgboost as xgb\n",
    "\n",
    "# Assuming X_train and y_train are your training data and target variable\n",
    "\n",
    "# Define the preprocessing steps for categorical columns\n",
    "categorical_preprocessor = Pipeline(\n",
    "    steps=[\n",
    "        ('encoder', OneHotEncoder(sparse=False))  # Set sparse=False to get dense arrays\n",
    "    ]\n",
    ")\n",
    "\n",
    "# Define the preprocessing steps for the entire dataset\n",
    "preprocessor = ColumnTransformer(\n",
    "    transformers=[\n",
    "        ('categorical', categorical_preprocessor, ['District Name', 'Market Name', 'Commodity']),\n",
    "    ],\n",
    "    remainder='passthrough'\n",
    ")\n",
    "\n",
    "# Define the pipeline with preprocessing and model\n",
    "pipeline = Pipeline(\n",
    "    steps=[\n",
    "        ('preprocessor', preprocessor),\n",
    "        ('scaler', StandardScaler()),  # Optional: scale features\n",
    "        ('model', xgb.XGBRegressor())\n",
    "    ]\n",
    ")\n",
    "\n",
    "# Fit the pipeline to the training data\n"
   ]
  },
  {
   "cell_type": "code",
   "execution_count": 97,
   "id": "eb6a510e",
   "metadata": {},
   "outputs": [
    {
     "name": "stderr",
     "output_type": "stream",
     "text": [
      "C:\\ProgramData\\anaconda3\\Lib\\site-packages\\sklearn\\preprocessing\\_encoders.py:972: FutureWarning: `sparse` was renamed to `sparse_output` in version 1.2 and will be removed in 1.4. `sparse_output` is ignored unless you leave `sparse` to its default value.\n",
      "  warnings.warn(\n"
     ]
    },
    {
     "data": {
      "text/html": [
       "<style>#sk-container-id-4 {color: black;}#sk-container-id-4 pre{padding: 0;}#sk-container-id-4 div.sk-toggleable {background-color: white;}#sk-container-id-4 label.sk-toggleable__label {cursor: pointer;display: block;width: 100%;margin-bottom: 0;padding: 0.3em;box-sizing: border-box;text-align: center;}#sk-container-id-4 label.sk-toggleable__label-arrow:before {content: \"▸\";float: left;margin-right: 0.25em;color: #696969;}#sk-container-id-4 label.sk-toggleable__label-arrow:hover:before {color: black;}#sk-container-id-4 div.sk-estimator:hover label.sk-toggleable__label-arrow:before {color: black;}#sk-container-id-4 div.sk-toggleable__content {max-height: 0;max-width: 0;overflow: hidden;text-align: left;background-color: #f0f8ff;}#sk-container-id-4 div.sk-toggleable__content pre {margin: 0.2em;color: black;border-radius: 0.25em;background-color: #f0f8ff;}#sk-container-id-4 input.sk-toggleable__control:checked~div.sk-toggleable__content {max-height: 200px;max-width: 100%;overflow: auto;}#sk-container-id-4 input.sk-toggleable__control:checked~label.sk-toggleable__label-arrow:before {content: \"▾\";}#sk-container-id-4 div.sk-estimator input.sk-toggleable__control:checked~label.sk-toggleable__label {background-color: #d4ebff;}#sk-container-id-4 div.sk-label input.sk-toggleable__control:checked~label.sk-toggleable__label {background-color: #d4ebff;}#sk-container-id-4 input.sk-hidden--visually {border: 0;clip: rect(1px 1px 1px 1px);clip: rect(1px, 1px, 1px, 1px);height: 1px;margin: -1px;overflow: hidden;padding: 0;position: absolute;width: 1px;}#sk-container-id-4 div.sk-estimator {font-family: monospace;background-color: #f0f8ff;border: 1px dotted black;border-radius: 0.25em;box-sizing: border-box;margin-bottom: 0.5em;}#sk-container-id-4 div.sk-estimator:hover {background-color: #d4ebff;}#sk-container-id-4 div.sk-parallel-item::after {content: \"\";width: 100%;border-bottom: 1px solid gray;flex-grow: 1;}#sk-container-id-4 div.sk-label:hover label.sk-toggleable__label {background-color: #d4ebff;}#sk-container-id-4 div.sk-serial::before {content: \"\";position: absolute;border-left: 1px solid gray;box-sizing: border-box;top: 0;bottom: 0;left: 50%;z-index: 0;}#sk-container-id-4 div.sk-serial {display: flex;flex-direction: column;align-items: center;background-color: white;padding-right: 0.2em;padding-left: 0.2em;position: relative;}#sk-container-id-4 div.sk-item {position: relative;z-index: 1;}#sk-container-id-4 div.sk-parallel {display: flex;align-items: stretch;justify-content: center;background-color: white;position: relative;}#sk-container-id-4 div.sk-item::before, #sk-container-id-4 div.sk-parallel-item::before {content: \"\";position: absolute;border-left: 1px solid gray;box-sizing: border-box;top: 0;bottom: 0;left: 50%;z-index: -1;}#sk-container-id-4 div.sk-parallel-item {display: flex;flex-direction: column;z-index: 1;position: relative;background-color: white;}#sk-container-id-4 div.sk-parallel-item:first-child::after {align-self: flex-end;width: 50%;}#sk-container-id-4 div.sk-parallel-item:last-child::after {align-self: flex-start;width: 50%;}#sk-container-id-4 div.sk-parallel-item:only-child::after {width: 0;}#sk-container-id-4 div.sk-dashed-wrapped {border: 1px dashed gray;margin: 0 0.4em 0.5em 0.4em;box-sizing: border-box;padding-bottom: 0.4em;background-color: white;}#sk-container-id-4 div.sk-label label {font-family: monospace;font-weight: bold;display: inline-block;line-height: 1.2em;}#sk-container-id-4 div.sk-label-container {text-align: center;}#sk-container-id-4 div.sk-container {/* jupyter's `normalize.less` sets `[hidden] { display: none; }` but bootstrap.min.css set `[hidden] { display: none !important; }` so we also need the `!important` here to be able to override the default hidden behavior on the sphinx rendered scikit-learn.org. See: https://github.com/scikit-learn/scikit-learn/issues/21755 */display: inline-block !important;position: relative;}#sk-container-id-4 div.sk-text-repr-fallback {display: none;}</style><div id=\"sk-container-id-4\" class=\"sk-top-container\"><div class=\"sk-text-repr-fallback\"><pre>Pipeline(steps=[(&#x27;preprocessor&#x27;,\n",
       "                 ColumnTransformer(remainder=&#x27;passthrough&#x27;,\n",
       "                                   transformers=[(&#x27;categorical&#x27;,\n",
       "                                                  Pipeline(steps=[(&#x27;encoder&#x27;,\n",
       "                                                                   OneHotEncoder(sparse=False))]),\n",
       "                                                  [&#x27;District Name&#x27;,\n",
       "                                                   &#x27;Market Name&#x27;,\n",
       "                                                   &#x27;Commodity&#x27;])])),\n",
       "                (&#x27;scaler&#x27;, StandardScaler()),\n",
       "                (&#x27;model&#x27;,\n",
       "                 XGBRegressor(base_score=None, booster=None, callbacks=None,\n",
       "                              colsample_bylevel=None, colsample_bynode=None,\n",
       "                              cols...\n",
       "                              feature_types=None, gamma=None, grow_policy=None,\n",
       "                              importance_type=None,\n",
       "                              interaction_constraints=None, learning_rate=None,\n",
       "                              max_bin=None, max_cat_threshold=None,\n",
       "                              max_cat_to_onehot=None, max_delta_step=None,\n",
       "                              max_depth=None, max_leaves=None,\n",
       "                              min_child_weight=None, missing=nan,\n",
       "                              monotone_constraints=None, multi_strategy=None,\n",
       "                              n_estimators=None, n_jobs=None,\n",
       "                              num_parallel_tree=None, random_state=None, ...))])</pre><b>In a Jupyter environment, please rerun this cell to show the HTML representation or trust the notebook. <br />On GitHub, the HTML representation is unable to render, please try loading this page with nbviewer.org.</b></div><div class=\"sk-container\" hidden><div class=\"sk-item sk-dashed-wrapped\"><div class=\"sk-label-container\"><div class=\"sk-label sk-toggleable\"><input class=\"sk-toggleable__control sk-hidden--visually\" id=\"sk-estimator-id-37\" type=\"checkbox\" ><label for=\"sk-estimator-id-37\" class=\"sk-toggleable__label sk-toggleable__label-arrow\">Pipeline</label><div class=\"sk-toggleable__content\"><pre>Pipeline(steps=[(&#x27;preprocessor&#x27;,\n",
       "                 ColumnTransformer(remainder=&#x27;passthrough&#x27;,\n",
       "                                   transformers=[(&#x27;categorical&#x27;,\n",
       "                                                  Pipeline(steps=[(&#x27;encoder&#x27;,\n",
       "                                                                   OneHotEncoder(sparse=False))]),\n",
       "                                                  [&#x27;District Name&#x27;,\n",
       "                                                   &#x27;Market Name&#x27;,\n",
       "                                                   &#x27;Commodity&#x27;])])),\n",
       "                (&#x27;scaler&#x27;, StandardScaler()),\n",
       "                (&#x27;model&#x27;,\n",
       "                 XGBRegressor(base_score=None, booster=None, callbacks=None,\n",
       "                              colsample_bylevel=None, colsample_bynode=None,\n",
       "                              cols...\n",
       "                              feature_types=None, gamma=None, grow_policy=None,\n",
       "                              importance_type=None,\n",
       "                              interaction_constraints=None, learning_rate=None,\n",
       "                              max_bin=None, max_cat_threshold=None,\n",
       "                              max_cat_to_onehot=None, max_delta_step=None,\n",
       "                              max_depth=None, max_leaves=None,\n",
       "                              min_child_weight=None, missing=nan,\n",
       "                              monotone_constraints=None, multi_strategy=None,\n",
       "                              n_estimators=None, n_jobs=None,\n",
       "                              num_parallel_tree=None, random_state=None, ...))])</pre></div></div></div><div class=\"sk-serial\"><div class=\"sk-item sk-dashed-wrapped\"><div class=\"sk-label-container\"><div class=\"sk-label sk-toggleable\"><input class=\"sk-toggleable__control sk-hidden--visually\" id=\"sk-estimator-id-38\" type=\"checkbox\" ><label for=\"sk-estimator-id-38\" class=\"sk-toggleable__label sk-toggleable__label-arrow\">preprocessor: ColumnTransformer</label><div class=\"sk-toggleable__content\"><pre>ColumnTransformer(remainder=&#x27;passthrough&#x27;,\n",
       "                  transformers=[(&#x27;categorical&#x27;,\n",
       "                                 Pipeline(steps=[(&#x27;encoder&#x27;,\n",
       "                                                  OneHotEncoder(sparse=False))]),\n",
       "                                 [&#x27;District Name&#x27;, &#x27;Market Name&#x27;,\n",
       "                                  &#x27;Commodity&#x27;])])</pre></div></div></div><div class=\"sk-parallel\"><div class=\"sk-parallel-item\"><div class=\"sk-item\"><div class=\"sk-label-container\"><div class=\"sk-label sk-toggleable\"><input class=\"sk-toggleable__control sk-hidden--visually\" id=\"sk-estimator-id-39\" type=\"checkbox\" ><label for=\"sk-estimator-id-39\" class=\"sk-toggleable__label sk-toggleable__label-arrow\">categorical</label><div class=\"sk-toggleable__content\"><pre>[&#x27;District Name&#x27;, &#x27;Market Name&#x27;, &#x27;Commodity&#x27;]</pre></div></div></div><div class=\"sk-serial\"><div class=\"sk-item\"><div class=\"sk-serial\"><div class=\"sk-item\"><div class=\"sk-estimator sk-toggleable\"><input class=\"sk-toggleable__control sk-hidden--visually\" id=\"sk-estimator-id-40\" type=\"checkbox\" ><label for=\"sk-estimator-id-40\" class=\"sk-toggleable__label sk-toggleable__label-arrow\">OneHotEncoder</label><div class=\"sk-toggleable__content\"><pre>OneHotEncoder(sparse=False)</pre></div></div></div></div></div></div></div></div><div class=\"sk-parallel-item\"><div class=\"sk-item\"><div class=\"sk-label-container\"><div class=\"sk-label sk-toggleable\"><input class=\"sk-toggleable__control sk-hidden--visually\" id=\"sk-estimator-id-41\" type=\"checkbox\" ><label for=\"sk-estimator-id-41\" class=\"sk-toggleable__label sk-toggleable__label-arrow\">remainder</label><div class=\"sk-toggleable__content\"><pre>[&#x27;Min Price(Rs.)&#x27;, &#x27;Max Price(Rs.)&#x27;, &#x27;Year&#x27;, &#x27;Month&#x27;, &#x27;Day&#x27;]</pre></div></div></div><div class=\"sk-serial\"><div class=\"sk-item\"><div class=\"sk-estimator sk-toggleable\"><input class=\"sk-toggleable__control sk-hidden--visually\" id=\"sk-estimator-id-42\" type=\"checkbox\" ><label for=\"sk-estimator-id-42\" class=\"sk-toggleable__label sk-toggleable__label-arrow\">passthrough</label><div class=\"sk-toggleable__content\"><pre>passthrough</pre></div></div></div></div></div></div></div></div><div class=\"sk-item\"><div class=\"sk-estimator sk-toggleable\"><input class=\"sk-toggleable__control sk-hidden--visually\" id=\"sk-estimator-id-43\" type=\"checkbox\" ><label for=\"sk-estimator-id-43\" class=\"sk-toggleable__label sk-toggleable__label-arrow\">StandardScaler</label><div class=\"sk-toggleable__content\"><pre>StandardScaler()</pre></div></div></div><div class=\"sk-item\"><div class=\"sk-estimator sk-toggleable\"><input class=\"sk-toggleable__control sk-hidden--visually\" id=\"sk-estimator-id-44\" type=\"checkbox\" ><label for=\"sk-estimator-id-44\" class=\"sk-toggleable__label sk-toggleable__label-arrow\">XGBRegressor</label><div class=\"sk-toggleable__content\"><pre>XGBRegressor(base_score=None, booster=None, callbacks=None,\n",
       "             colsample_bylevel=None, colsample_bynode=None,\n",
       "             colsample_bytree=None, device=None, early_stopping_rounds=None,\n",
       "             enable_categorical=False, eval_metric=None, feature_types=None,\n",
       "             gamma=None, grow_policy=None, importance_type=None,\n",
       "             interaction_constraints=None, learning_rate=None, max_bin=None,\n",
       "             max_cat_threshold=None, max_cat_to_onehot=None,\n",
       "             max_delta_step=None, max_depth=None, max_leaves=None,\n",
       "             min_child_weight=None, missing=nan, monotone_constraints=None,\n",
       "             multi_strategy=None, n_estimators=None, n_jobs=None,\n",
       "             num_parallel_tree=None, random_state=None, ...)</pre></div></div></div></div></div></div></div>"
      ],
      "text/plain": [
       "Pipeline(steps=[('preprocessor',\n",
       "                 ColumnTransformer(remainder='passthrough',\n",
       "                                   transformers=[('categorical',\n",
       "                                                  Pipeline(steps=[('encoder',\n",
       "                                                                   OneHotEncoder(sparse=False))]),\n",
       "                                                  ['District Name',\n",
       "                                                   'Market Name',\n",
       "                                                   'Commodity'])])),\n",
       "                ('scaler', StandardScaler()),\n",
       "                ('model',\n",
       "                 XGBRegressor(base_score=None, booster=None, callbacks=None,\n",
       "                              colsample_bylevel=None, colsample_bynode=None,\n",
       "                              cols...\n",
       "                              feature_types=None, gamma=None, grow_policy=None,\n",
       "                              importance_type=None,\n",
       "                              interaction_constraints=None, learning_rate=None,\n",
       "                              max_bin=None, max_cat_threshold=None,\n",
       "                              max_cat_to_onehot=None, max_delta_step=None,\n",
       "                              max_depth=None, max_leaves=None,\n",
       "                              min_child_weight=None, missing=nan,\n",
       "                              monotone_constraints=None, multi_strategy=None,\n",
       "                              n_estimators=None, n_jobs=None,\n",
       "                              num_parallel_tree=None, random_state=None, ...))])"
      ]
     },
     "execution_count": 97,
     "metadata": {},
     "output_type": "execute_result"
    }
   ],
   "source": [
    "pipeline.fit(X_train,y_train)"
   ]
  },
  {
   "cell_type": "code",
   "execution_count": 89,
   "id": "c442656b",
   "metadata": {
    "scrolled": false
   },
   "outputs": [
    {
     "data": {
      "text/html": [
       "<div>\n",
       "<style scoped>\n",
       "    .dataframe tbody tr th:only-of-type {\n",
       "        vertical-align: middle;\n",
       "    }\n",
       "\n",
       "    .dataframe tbody tr th {\n",
       "        vertical-align: top;\n",
       "    }\n",
       "\n",
       "    .dataframe thead th {\n",
       "        text-align: right;\n",
       "    }\n",
       "</style>\n",
       "<table border=\"1\" class=\"dataframe\">\n",
       "  <thead>\n",
       "    <tr style=\"text-align: right;\">\n",
       "      <th></th>\n",
       "      <th>District Name</th>\n",
       "      <th>Market Name</th>\n",
       "      <th>Commodity</th>\n",
       "      <th>Min Price(Rs.)</th>\n",
       "      <th>Max Price(Rs.)</th>\n",
       "      <th>Model Price</th>\n",
       "      <th>Year</th>\n",
       "      <th>Month</th>\n",
       "      <th>Day</th>\n",
       "    </tr>\n",
       "  </thead>\n",
       "  <tbody>\n",
       "    <tr>\n",
       "      <th>0</th>\n",
       "      <td>Junagarh</td>\n",
       "      <td>Junagadh</td>\n",
       "      <td>Soyabean</td>\n",
       "      <td>2750.0</td>\n",
       "      <td>3500.0</td>\n",
       "      <td>3125.0</td>\n",
       "      <td>2018.0</td>\n",
       "      <td>6.0</td>\n",
       "      <td>13.0</td>\n",
       "    </tr>\n",
       "    <tr>\n",
       "      <th>1</th>\n",
       "      <td>Surat</td>\n",
       "      <td>S.Mandvi</td>\n",
       "      <td>Green Gram (Moong)(Whole)</td>\n",
       "      <td>5750.0</td>\n",
       "      <td>6710.0</td>\n",
       "      <td>6230.0</td>\n",
       "      <td>2020.0</td>\n",
       "      <td>6.0</td>\n",
       "      <td>14.0</td>\n",
       "    </tr>\n",
       "    <tr>\n",
       "      <th>2</th>\n",
       "      <td>Bhavnagar</td>\n",
       "      <td>Bhavnagar</td>\n",
       "      <td>Wheat</td>\n",
       "      <td>2345.0</td>\n",
       "      <td>2365.0</td>\n",
       "      <td>2355.0</td>\n",
       "      <td>2022.0</td>\n",
       "      <td>7.0</td>\n",
       "      <td>25.0</td>\n",
       "    </tr>\n",
       "    <tr>\n",
       "      <th>3</th>\n",
       "      <td>Rajkot</td>\n",
       "      <td>Dhoraji</td>\n",
       "      <td>Wheat</td>\n",
       "      <td>2405.0</td>\n",
       "      <td>2590.0</td>\n",
       "      <td>2570.0</td>\n",
       "      <td>2024.0</td>\n",
       "      <td>6.0</td>\n",
       "      <td>4.0</td>\n",
       "    </tr>\n",
       "    <tr>\n",
       "      <th>4</th>\n",
       "      <td>Amreli</td>\n",
       "      <td>Amreli</td>\n",
       "      <td>Wheat</td>\n",
       "      <td>2250.0</td>\n",
       "      <td>3090.0</td>\n",
       "      <td>2905.0</td>\n",
       "      <td>2023.0</td>\n",
       "      <td>2.0</td>\n",
       "      <td>4.0</td>\n",
       "    </tr>\n",
       "  </tbody>\n",
       "</table>\n",
       "</div>"
      ],
      "text/plain": [
       "  District Name Market Name                  Commodity  Min Price(Rs.)  \\\n",
       "0      Junagarh    Junagadh                   Soyabean          2750.0   \n",
       "1         Surat    S.Mandvi  Green Gram (Moong)(Whole)          5750.0   \n",
       "2     Bhavnagar   Bhavnagar                      Wheat          2345.0   \n",
       "3        Rajkot     Dhoraji                      Wheat          2405.0   \n",
       "4        Amreli      Amreli                      Wheat          2250.0   \n",
       "\n",
       "   Max Price(Rs.)  Model Price    Year  Month   Day  \n",
       "0          3500.0       3125.0  2018.0    6.0  13.0  \n",
       "1          6710.0       6230.0  2020.0    6.0  14.0  \n",
       "2          2365.0       2355.0  2022.0    7.0  25.0  \n",
       "3          2590.0       2570.0  2024.0    6.0   4.0  \n",
       "4          3090.0       2905.0  2023.0    2.0   4.0  "
      ]
     },
     "execution_count": 89,
     "metadata": {},
     "output_type": "execute_result"
    }
   ],
   "source": [
    "\n",
    "X_train, X_test, y_train, y_test = train_test_split(X, y, test_size=0.2, random_state=42)\n",
    "df.head()"
   ]
  },
  {
   "cell_type": "code",
   "execution_count": null,
   "id": "0ac68fa5",
   "metadata": {},
   "outputs": [],
   "source": []
  },
  {
   "cell_type": "code",
   "execution_count": 79,
   "id": "132bd636",
   "metadata": {},
   "outputs": [],
   "source": [
    "df=df[df['Market Name']!='Lalpur']\n",
    "df=df[df['District Name']!='Lalpur']\n"
   ]
  },
  {
   "cell_type": "code",
   "execution_count": 62,
   "id": "dd4edca3",
   "metadata": {},
   "outputs": [],
   "source": [
    "count = (df['Market Name'] == 'Khambhat').sum()"
   ]
  },
  {
   "cell_type": "code",
   "execution_count": 63,
   "id": "d04b4417",
   "metadata": {},
   "outputs": [
    {
     "data": {
      "text/plain": [
       "0"
      ]
     },
     "execution_count": 63,
     "metadata": {},
     "output_type": "execute_result"
    }
   ],
   "source": [
    "count"
   ]
  },
  {
   "cell_type": "code",
   "execution_count": 22,
   "id": "8b3affe5",
   "metadata": {},
   "outputs": [
    {
     "data": {
      "text/html": [
       "<div>\n",
       "<style scoped>\n",
       "    .dataframe tbody tr th:only-of-type {\n",
       "        vertical-align: middle;\n",
       "    }\n",
       "\n",
       "    .dataframe tbody tr th {\n",
       "        vertical-align: top;\n",
       "    }\n",
       "\n",
       "    .dataframe thead th {\n",
       "        text-align: right;\n",
       "    }\n",
       "</style>\n",
       "<table border=\"1\" class=\"dataframe\">\n",
       "  <thead>\n",
       "    <tr style=\"text-align: right;\">\n",
       "      <th></th>\n",
       "      <th>District Name</th>\n",
       "      <th>Market Name</th>\n",
       "      <th>Commodity</th>\n",
       "      <th>Min Price(Rs.)</th>\n",
       "      <th>Max Price(Rs.)</th>\n",
       "      <th>Date</th>\n",
       "      <th>Year</th>\n",
       "      <th>Month</th>\n",
       "      <th>Day</th>\n",
       "    </tr>\n",
       "  </thead>\n",
       "  <tbody>\n",
       "    <tr>\n",
       "      <th>154623</th>\n",
       "      <td>Bhavnagar</td>\n",
       "      <td>Mahuva(Station Road)</td>\n",
       "      <td>Groundnut</td>\n",
       "      <td>4910.0</td>\n",
       "      <td>6565.0</td>\n",
       "      <td>2021-06-11</td>\n",
       "      <td>2021.0</td>\n",
       "      <td>6.0</td>\n",
       "      <td>11.0</td>\n",
       "    </tr>\n",
       "    <tr>\n",
       "      <th>139155</th>\n",
       "      <td>Jamnagar</td>\n",
       "      <td>Dhrol</td>\n",
       "      <td>Green Gram (Moong)(Whole)</td>\n",
       "      <td>4850.0</td>\n",
       "      <td>7005.0</td>\n",
       "      <td>2019-10-19</td>\n",
       "      <td>2019.0</td>\n",
       "      <td>10.0</td>\n",
       "      <td>19.0</td>\n",
       "    </tr>\n",
       "    <tr>\n",
       "      <th>52039</th>\n",
       "      <td>Rajkot</td>\n",
       "      <td>Rajkot</td>\n",
       "      <td>Wheat</td>\n",
       "      <td>1765.0</td>\n",
       "      <td>2030.0</td>\n",
       "      <td>2021-07-22</td>\n",
       "      <td>2021.0</td>\n",
       "      <td>7.0</td>\n",
       "      <td>22.0</td>\n",
       "    </tr>\n",
       "    <tr>\n",
       "      <th>100616</th>\n",
       "      <td>Dahod</td>\n",
       "      <td>Dahod</td>\n",
       "      <td>Groundnut</td>\n",
       "      <td>5000.0</td>\n",
       "      <td>5800.0</td>\n",
       "      <td>2022-01-04</td>\n",
       "      <td>2022.0</td>\n",
       "      <td>1.0</td>\n",
       "      <td>4.0</td>\n",
       "    </tr>\n",
       "    <tr>\n",
       "      <th>78604</th>\n",
       "      <td>Junagarh</td>\n",
       "      <td>Visavadar</td>\n",
       "      <td>Soyabean</td>\n",
       "      <td>4810.0</td>\n",
       "      <td>5380.0</td>\n",
       "      <td>2022-11-03</td>\n",
       "      <td>2022.0</td>\n",
       "      <td>11.0</td>\n",
       "      <td>3.0</td>\n",
       "    </tr>\n",
       "    <tr>\n",
       "      <th>...</th>\n",
       "      <td>...</td>\n",
       "      <td>...</td>\n",
       "      <td>...</td>\n",
       "      <td>...</td>\n",
       "      <td>...</td>\n",
       "      <td>...</td>\n",
       "      <td>...</td>\n",
       "      <td>...</td>\n",
       "      <td>...</td>\n",
       "    </tr>\n",
       "    <tr>\n",
       "      <th>13968</th>\n",
       "      <td>Porbandar</td>\n",
       "      <td>Porbandar</td>\n",
       "      <td>Wheat</td>\n",
       "      <td>1665.0</td>\n",
       "      <td>1705.0</td>\n",
       "      <td>2019-05-08</td>\n",
       "      <td>2019.0</td>\n",
       "      <td>5.0</td>\n",
       "      <td>8.0</td>\n",
       "    </tr>\n",
       "    <tr>\n",
       "      <th>190546</th>\n",
       "      <td>Bhavnagar</td>\n",
       "      <td>Taleja</td>\n",
       "      <td>Green Gram (Moong)(Whole)</td>\n",
       "      <td>6505.0</td>\n",
       "      <td>6845.0</td>\n",
       "      <td>2022-05-07</td>\n",
       "      <td>2022.0</td>\n",
       "      <td>5.0</td>\n",
       "      <td>7.0</td>\n",
       "    </tr>\n",
       "    <tr>\n",
       "      <th>14351</th>\n",
       "      <td>Patan</td>\n",
       "      <td>Siddhpur</td>\n",
       "      <td>Wheat</td>\n",
       "      <td>2030.0</td>\n",
       "      <td>2225.0</td>\n",
       "      <td>2019-10-18</td>\n",
       "      <td>2019.0</td>\n",
       "      <td>10.0</td>\n",
       "      <td>18.0</td>\n",
       "    </tr>\n",
       "    <tr>\n",
       "      <th>95579</th>\n",
       "      <td>Rajkot</td>\n",
       "      <td>Jasdan</td>\n",
       "      <td>Soyabean</td>\n",
       "      <td>5000.0</td>\n",
       "      <td>5450.0</td>\n",
       "      <td>2023-01-07</td>\n",
       "      <td>2023.0</td>\n",
       "      <td>1.0</td>\n",
       "      <td>7.0</td>\n",
       "    </tr>\n",
       "    <tr>\n",
       "      <th>28550</th>\n",
       "      <td>Amreli</td>\n",
       "      <td>Rajula</td>\n",
       "      <td>Moath Dal</td>\n",
       "      <td>8625.0</td>\n",
       "      <td>9010.0</td>\n",
       "      <td>2022-11-29</td>\n",
       "      <td>2022.0</td>\n",
       "      <td>11.0</td>\n",
       "      <td>29.0</td>\n",
       "    </tr>\n",
       "  </tbody>\n",
       "</table>\n",
       "<p>38294 rows × 9 columns</p>\n",
       "</div>"
      ],
      "text/plain": [
       "       District Name           Market Name                  Commodity  \\\n",
       "154623     Bhavnagar  Mahuva(Station Road)                  Groundnut   \n",
       "139155      Jamnagar                 Dhrol  Green Gram (Moong)(Whole)   \n",
       "52039         Rajkot                Rajkot                      Wheat   \n",
       "100616         Dahod                 Dahod                  Groundnut   \n",
       "78604       Junagarh             Visavadar                   Soyabean   \n",
       "...              ...                   ...                        ...   \n",
       "13968      Porbandar             Porbandar                      Wheat   \n",
       "190546     Bhavnagar                Taleja  Green Gram (Moong)(Whole)   \n",
       "14351          Patan              Siddhpur                      Wheat   \n",
       "95579         Rajkot                Jasdan                   Soyabean   \n",
       "28550         Amreli                Rajula                  Moath Dal   \n",
       "\n",
       "        Min Price(Rs.)  Max Price(Rs.)       Date    Year  Month   Day  \n",
       "154623          4910.0          6565.0 2021-06-11  2021.0    6.0  11.0  \n",
       "139155          4850.0          7005.0 2019-10-19  2019.0   10.0  19.0  \n",
       "52039           1765.0          2030.0 2021-07-22  2021.0    7.0  22.0  \n",
       "100616          5000.0          5800.0 2022-01-04  2022.0    1.0   4.0  \n",
       "78604           4810.0          5380.0 2022-11-03  2022.0   11.0   3.0  \n",
       "...                ...             ...        ...     ...    ...   ...  \n",
       "13968           1665.0          1705.0 2019-05-08  2019.0    5.0   8.0  \n",
       "190546          6505.0          6845.0 2022-05-07  2022.0    5.0   7.0  \n",
       "14351           2030.0          2225.0 2019-10-18  2019.0   10.0  18.0  \n",
       "95579           5000.0          5450.0 2023-01-07  2023.0    1.0   7.0  \n",
       "28550           8625.0          9010.0 2022-11-29  2022.0   11.0  29.0  \n",
       "\n",
       "[38294 rows x 9 columns]"
      ]
     },
     "execution_count": 22,
     "metadata": {},
     "output_type": "execute_result"
    }
   ],
   "source": [
    "X_test"
   ]
  },
  {
   "cell_type": "code",
   "execution_count": 38,
   "id": "902f94f5",
   "metadata": {
    "scrolled": true
   },
   "outputs": [
    {
     "name": "stdout",
     "output_type": "stream",
     "text": [
      "['Junagarh' 'Surat' 'Bhavnagar' 'Rajkot' 'Amreli' 'Banaskanth'\n",
      " 'Sabarkantha' 'Dahod' 'Jamnagar' 'Kheda' 'Mehsana' 'Chhota Udaipur'\n",
      " 'Patan' 'Morbi' 'Botad' 'Gandhinagar' 'Bharuch' 'Anand'\n",
      " 'Vadodara(Baroda)' 'Porbandar' 'Ahmedabad' 'Gir Somnath'\n",
      " 'Devbhumi Dwarka' 'Surendranagar' 'Panchmahals' 'Kachchh' 'Narmada']\n"
     ]
    }
   ],
   "source": [
    "print(df['District Name'].unique())"
   ]
  },
  {
   "cell_type": "code",
   "execution_count": 43,
   "id": "eccc6bd4",
   "metadata": {},
   "outputs": [
    {
     "data": {
      "text/html": [
       "<div>\n",
       "<style scoped>\n",
       "    .dataframe tbody tr th:only-of-type {\n",
       "        vertical-align: middle;\n",
       "    }\n",
       "\n",
       "    .dataframe tbody tr th {\n",
       "        vertical-align: top;\n",
       "    }\n",
       "\n",
       "    .dataframe thead th {\n",
       "        text-align: right;\n",
       "    }\n",
       "</style>\n",
       "<table border=\"1\" class=\"dataframe\">\n",
       "  <thead>\n",
       "    <tr style=\"text-align: right;\">\n",
       "      <th></th>\n",
       "      <th>District Name</th>\n",
       "      <th>Market Name</th>\n",
       "      <th>Commodity</th>\n",
       "      <th>Min Price(Rs.)</th>\n",
       "      <th>Max Price(Rs.)</th>\n",
       "      <th>Model Price</th>\n",
       "      <th>Year</th>\n",
       "      <th>Month</th>\n",
       "      <th>Day</th>\n",
       "    </tr>\n",
       "  </thead>\n",
       "  <tbody>\n",
       "    <tr>\n",
       "      <th>161614</th>\n",
       "      <td>Anand</td>\n",
       "      <td>Khambhat</td>\n",
       "      <td>Cotton</td>\n",
       "      <td>3300.0</td>\n",
       "      <td>3400.0</td>\n",
       "      <td>3350.0</td>\n",
       "      <td>2018.0</td>\n",
       "      <td>9.0</td>\n",
       "      <td>18.0</td>\n",
       "    </tr>\n",
       "  </tbody>\n",
       "</table>\n",
       "</div>"
      ],
      "text/plain": [
       "       District Name Market Name Commodity  Min Price(Rs.)  Max Price(Rs.)  \\\n",
       "161614         Anand    Khambhat    Cotton          3300.0          3400.0   \n",
       "\n",
       "        Model Price    Year  Month   Day  \n",
       "161614       3350.0  2018.0    9.0  18.0  "
      ]
     },
     "execution_count": 43,
     "metadata": {},
     "output_type": "execute_result"
    }
   ],
   "source": [
    "df[df['Market Name']=='Khambhat']"
   ]
  },
  {
   "cell_type": "code",
   "execution_count": 60,
   "id": "7e913a90",
   "metadata": {},
   "outputs": [],
   "source": [
    "df=df[df['Market Name']!='Lalpur']"
   ]
  },
  {
   "cell_type": "code",
   "execution_count": 61,
   "id": "1773f79d",
   "metadata": {},
   "outputs": [],
   "source": [
    "df=df[df['District Name']!='Lalpur']"
   ]
  },
  {
   "cell_type": "code",
   "execution_count": 66,
   "id": "88b08281",
   "metadata": {},
   "outputs": [
    {
     "data": {
      "text/html": [
       "<div>\n",
       "<style scoped>\n",
       "    .dataframe tbody tr th:only-of-type {\n",
       "        vertical-align: middle;\n",
       "    }\n",
       "\n",
       "    .dataframe tbody tr th {\n",
       "        vertical-align: top;\n",
       "    }\n",
       "\n",
       "    .dataframe thead th {\n",
       "        text-align: right;\n",
       "    }\n",
       "</style>\n",
       "<table border=\"1\" class=\"dataframe\">\n",
       "  <thead>\n",
       "    <tr style=\"text-align: right;\">\n",
       "      <th></th>\n",
       "      <th>District Name</th>\n",
       "      <th>Market Name</th>\n",
       "      <th>Commodity</th>\n",
       "      <th>Min Price(Rs.)</th>\n",
       "      <th>Max Price(Rs.)</th>\n",
       "      <th>Year</th>\n",
       "      <th>Month</th>\n",
       "      <th>Day</th>\n",
       "    </tr>\n",
       "  </thead>\n",
       "  <tbody>\n",
       "    <tr>\n",
       "      <th>144064</th>\n",
       "      <td>Sabarkantha</td>\n",
       "      <td>Talod</td>\n",
       "      <td>Wheat</td>\n",
       "      <td>2600.0</td>\n",
       "      <td>3055.0</td>\n",
       "      <td>2024.0</td>\n",
       "      <td>1.0</td>\n",
       "      <td>17.0</td>\n",
       "    </tr>\n",
       "    <tr>\n",
       "      <th>84555</th>\n",
       "      <td>Rajkot</td>\n",
       "      <td>Rajkot</td>\n",
       "      <td>Groundnut</td>\n",
       "      <td>5700.0</td>\n",
       "      <td>6390.0</td>\n",
       "      <td>2024.0</td>\n",
       "      <td>7.0</td>\n",
       "      <td>4.0</td>\n",
       "    </tr>\n",
       "    <tr>\n",
       "      <th>42603</th>\n",
       "      <td>Bhavnagar</td>\n",
       "      <td>Taleja</td>\n",
       "      <td>Groundnut</td>\n",
       "      <td>5000.0</td>\n",
       "      <td>6250.0</td>\n",
       "      <td>2024.0</td>\n",
       "      <td>4.0</td>\n",
       "      <td>1.0</td>\n",
       "    </tr>\n",
       "    <tr>\n",
       "      <th>135183</th>\n",
       "      <td>Amreli</td>\n",
       "      <td>Rajula</td>\n",
       "      <td>Soyabean</td>\n",
       "      <td>5105.0</td>\n",
       "      <td>5150.0</td>\n",
       "      <td>2022.0</td>\n",
       "      <td>12.0</td>\n",
       "      <td>16.0</td>\n",
       "    </tr>\n",
       "    <tr>\n",
       "      <th>64125</th>\n",
       "      <td>Bhavnagar</td>\n",
       "      <td>Mahuva(Station Road)</td>\n",
       "      <td>Groundnut</td>\n",
       "      <td>4520.0</td>\n",
       "      <td>4520.0</td>\n",
       "      <td>2021.0</td>\n",
       "      <td>9.0</td>\n",
       "      <td>27.0</td>\n",
       "    </tr>\n",
       "  </tbody>\n",
       "</table>\n",
       "</div>"
      ],
      "text/plain": [
       "       District Name           Market Name  Commodity  Min Price(Rs.)  \\\n",
       "144064   Sabarkantha                 Talod      Wheat          2600.0   \n",
       "84555         Rajkot                Rajkot  Groundnut          5700.0   \n",
       "42603      Bhavnagar                Taleja  Groundnut          5000.0   \n",
       "135183        Amreli                Rajula   Soyabean          5105.0   \n",
       "64125      Bhavnagar  Mahuva(Station Road)  Groundnut          4520.0   \n",
       "\n",
       "        Max Price(Rs.)    Year  Month   Day  \n",
       "144064          3055.0  2024.0    1.0  17.0  \n",
       "84555           6390.0  2024.0    7.0   4.0  \n",
       "42603           6250.0  2024.0    4.0   1.0  \n",
       "135183          5150.0  2022.0   12.0  16.0  \n",
       "64125           4520.0  2021.0    9.0  27.0  "
      ]
     },
     "execution_count": 66,
     "metadata": {},
     "output_type": "execute_result"
    }
   ],
   "source": [
    "X_train.head()"
   ]
  },
  {
   "cell_type": "code",
   "execution_count": 68,
   "id": "47c5f363",
   "metadata": {},
   "outputs": [
    {
     "data": {
      "text/plain": [
       "District Name     Sabarkantha\n",
       "Market Name             Talod\n",
       "Commodity               Wheat\n",
       "Min Price(Rs.)         2600.0\n",
       "Max Price(Rs.)         3055.0\n",
       "Year                   2024.0\n",
       "Month                     1.0\n",
       "Day                      17.0\n",
       "Name: 144064, dtype: object"
      ]
     },
     "execution_count": 68,
     "metadata": {},
     "output_type": "execute_result"
    }
   ],
   "source": [
    "X_train.iloc[0]"
   ]
  },
  {
   "cell_type": "code",
   "execution_count": 73,
   "id": "20c0b76e",
   "metadata": {},
   "outputs": [
    {
     "data": {
      "text/plain": [
       "District Name     0\n",
       "Market Name       0\n",
       "Commodity         0\n",
       "Min Price(Rs.)    0\n",
       "Max Price(Rs.)    0\n",
       "Model Price       0\n",
       "Year              0\n",
       "Month             0\n",
       "Day               0\n",
       "dtype: int64"
      ]
     },
     "execution_count": 73,
     "metadata": {},
     "output_type": "execute_result"
    }
   ],
   "source": [
    "pd.DataFrame(X_train.iloc[0])\n",
    "df.isnull().sum()"
   ]
  },
  {
   "cell_type": "code",
   "execution_count": null,
   "id": "ae350814",
   "metadata": {},
   "outputs": [],
   "source": []
  },
  {
   "cell_type": "code",
   "execution_count": null,
   "id": "925c460b",
   "metadata": {},
   "outputs": [],
   "source": []
  },
  {
   "cell_type": "code",
   "execution_count": 79,
   "id": "5541f62e",
   "metadata": {},
   "outputs": [],
   "source": [
    "first_row = X_train.iloc[0]\n",
    "reshaped_first_row = pd.DataFrame([first_row], columns=X_train.columns)"
   ]
  },
  {
   "cell_type": "code",
   "execution_count": 86,
   "id": "f06dbc40",
   "metadata": {},
   "outputs": [],
   "source": [
    "first_row = pd.DataFrame([X_train.iloc[0].values], columns=X_train.columns)"
   ]
  },
  {
   "cell_type": "code",
   "execution_count": 87,
   "id": "f82362e4",
   "metadata": {},
   "outputs": [
    {
     "data": {
      "text/plain": [
       "array([2860.2819386])"
      ]
     },
     "execution_count": 87,
     "metadata": {},
     "output_type": "execute_result"
    }
   ],
   "source": [
    "pipeline.predict(first_row)"
   ]
  },
  {
   "cell_type": "code",
   "execution_count": 88,
   "id": "5b87a967",
   "metadata": {},
   "outputs": [
    {
     "data": {
      "text/html": [
       "<div>\n",
       "<style scoped>\n",
       "    .dataframe tbody tr th:only-of-type {\n",
       "        vertical-align: middle;\n",
       "    }\n",
       "\n",
       "    .dataframe tbody tr th {\n",
       "        vertical-align: top;\n",
       "    }\n",
       "\n",
       "    .dataframe thead th {\n",
       "        text-align: right;\n",
       "    }\n",
       "</style>\n",
       "<table border=\"1\" class=\"dataframe\">\n",
       "  <thead>\n",
       "    <tr style=\"text-align: right;\">\n",
       "      <th></th>\n",
       "      <th>District Name</th>\n",
       "      <th>Market Name</th>\n",
       "      <th>Commodity</th>\n",
       "      <th>Min Price(Rs.)</th>\n",
       "      <th>Max Price(Rs.)</th>\n",
       "      <th>Year</th>\n",
       "      <th>Month</th>\n",
       "      <th>Day</th>\n",
       "    </tr>\n",
       "  </thead>\n",
       "  <tbody>\n",
       "    <tr>\n",
       "      <th>0</th>\n",
       "      <td>Sabarkantha</td>\n",
       "      <td>Talod</td>\n",
       "      <td>Wheat</td>\n",
       "      <td>2600.0</td>\n",
       "      <td>3055.0</td>\n",
       "      <td>2024.0</td>\n",
       "      <td>1.0</td>\n",
       "      <td>17.0</td>\n",
       "    </tr>\n",
       "  </tbody>\n",
       "</table>\n",
       "</div>"
      ],
      "text/plain": [
       "  District Name Market Name Commodity  Min Price(Rs.)  Max Price(Rs.)    Year  \\\n",
       "0   Sabarkantha       Talod     Wheat          2600.0          3055.0  2024.0   \n",
       "\n",
       "   Month   Day  \n",
       "0    1.0  17.0  "
      ]
     },
     "execution_count": 88,
     "metadata": {},
     "output_type": "execute_result"
    }
   ],
   "source": [
    "first_row"
   ]
  },
  {
   "cell_type": "code",
   "execution_count": 89,
   "id": "c39a17b6",
   "metadata": {},
   "outputs": [
    {
     "data": {
      "text/plain": [
       "array(['Sabarkantha', 'Talod', 'Wheat', 2600.0, 3055.0, 2024.0, 1.0, 17.0],\n",
       "      dtype=object)"
      ]
     },
     "execution_count": 89,
     "metadata": {},
     "output_type": "execute_result"
    }
   ],
   "source": [
    "X_train.iloc[0].values"
   ]
  },
  {
   "cell_type": "code",
   "execution_count": 142,
   "id": "4ffb4ac0",
   "metadata": {},
   "outputs": [
    {
     "data": {
      "text/plain": [
       "array(['Sabarkantha', 'Talod', 'Wheat', 2600.0, 3055.0, 2024.0, 1.0, 17.0],\n",
       "      dtype=object)"
      ]
     },
     "execution_count": 142,
     "metadata": {},
     "output_type": "execute_result"
    }
   ],
   "source": [
    " X_train.iloc[0].values"
   ]
  },
  {
   "cell_type": "code",
   "execution_count": 122,
   "id": "021ac6ea",
   "metadata": {},
   "outputs": [],
   "source": [
    "predictions=pipeline.predict(X_test)"
   ]
  },
  {
   "cell_type": "code",
   "execution_count": 100,
   "id": "bd312cc8",
   "metadata": {},
   "outputs": [],
   "source": [
    "def evaluate_model(true,predicted):\n",
    "    mae=mean_absolute_error(true, predicted)\n",
    "    mse=mean_squared_error(true, predicted)\n",
    "    r2=r2_score(true, predicted)\n",
    "    \n",
    "    return mae, mse, r2\n",
    "    "
   ]
  },
  {
   "cell_type": "code",
   "execution_count": 95,
   "id": "987c99df",
   "metadata": {},
   "outputs": [
    {
     "data": {
      "text/plain": [
       "(103.24288070993052, 47051.45337345009, 0.9894004013258475)"
      ]
     },
     "execution_count": 95,
     "metadata": {},
     "output_type": "execute_result"
    }
   ],
   "source": [
    "#Linear Regression\n",
    "evaluate_model(y_test,predictions)"
   ]
  },
  {
   "cell_type": "code",
   "execution_count": 102,
   "id": "66d9530e",
   "metadata": {},
   "outputs": [
    {
     "data": {
      "text/plain": [
       "(67.44288420773715, 29634.43524569423, 0.9933240506292891)"
      ]
     },
     "execution_count": 102,
     "metadata": {},
     "output_type": "execute_result"
    }
   ],
   "source": [
    "#DecisionTreeRegressor\n",
    "evaluate_model(y_test,predictions)"
   ]
  },
  {
   "cell_type": "code",
   "execution_count": 107,
   "id": "2a293291",
   "metadata": {},
   "outputs": [
    {
     "data": {
      "text/plain": [
       "(50.228221369899316, 15385.475222279612, 0.9965340100873632)"
      ]
     },
     "execution_count": 107,
     "metadata": {},
     "output_type": "execute_result"
    }
   ],
   "source": [
    "#RandomForestRegressor\n",
    "evaluate_model(y_test,predictions)"
   ]
  },
  {
   "cell_type": "code",
   "execution_count": 125,
   "id": "9780dae4",
   "metadata": {},
   "outputs": [
    {
     "data": {
      "text/plain": [
       "(62.58926857289778, 19373.811100749033, 0.9956355307278849)"
      ]
     },
     "execution_count": 125,
     "metadata": {},
     "output_type": "execute_result"
    }
   ],
   "source": [
    "#XGBRegressor\n",
    "evaluate_model(y_test,predictions)\n",
    "\n"
   ]
  },
  {
   "cell_type": "code",
   "execution_count": 117,
   "id": "4592686e",
   "metadata": {},
   "outputs": [
    {
     "data": {
      "text/plain": [
       "(312.60504450700705, 155887.3670313647, 0.964882200007978)"
      ]
     },
     "execution_count": 117,
     "metadata": {},
     "output_type": "execute_result"
    }
   ],
   "source": [
    "#Adabooster\n",
    "evaluate_model(y_test,predictions)\n"
   ]
  },
  {
   "cell_type": "code",
   "execution_count": 127,
   "id": "b71ef91c",
   "metadata": {},
   "outputs": [],
   "source": [
    "import pickle\n",
    "with open('pipeline.pkl','wb') as file:\n",
    "    pickle.dump(pipeline,file)"
   ]
  },
  {
   "cell_type": "code",
   "execution_count": 129,
   "id": "8a172bfb",
   "metadata": {},
   "outputs": [
    {
     "data": {
      "text/plain": [
       "array([2003.549 , 7475.2363, 1785.085 , ..., 2351.6729, 1823.6455,\n",
       "       2498.207 ], dtype=float32)"
      ]
     },
     "execution_count": 129,
     "metadata": {},
     "output_type": "execute_result"
    }
   ],
   "source": [
    "pipeline.predict(X_test[0])"
   ]
  },
  {
   "cell_type": "code",
   "execution_count": 131,
   "id": "d4ef29ef",
   "metadata": {},
   "outputs": [
    {
     "data": {
      "text/plain": [
       "array(['Rajkot', 'Dhoraji', 'Wheat', 1850.0, 2025.0, 2022.0, 1.0, 25.0],\n",
       "      dtype=object)"
      ]
     },
     "execution_count": 131,
     "metadata": {},
     "output_type": "execute_result"
    }
   ],
   "source": [
    "X_test.iloc[0].values"
   ]
  },
  {
   "cell_type": "code",
   "execution_count": 132,
   "id": "540a1fd6",
   "metadata": {},
   "outputs": [
    {
     "data": {
      "text/plain": [
       "array([2850.2676], dtype=float32)"
      ]
     },
     "execution_count": 132,
     "metadata": {},
     "output_type": "execute_result"
    }
   ],
   "source": [
    "pipeline.predict(first_row)"
   ]
  },
  {
   "cell_type": "code",
   "execution_count": 138,
   "id": "9f72b7a9",
   "metadata": {},
   "outputs": [
    {
     "name": "stdout",
     "output_type": "stream",
     "text": [
      "Junagarh\n",
      "Surat\n",
      "Bhavnagar\n",
      "Rajkot\n",
      "Amreli\n",
      "Banaskanth\n",
      "Sabarkantha\n",
      "Dahod\n",
      "Jamnagar\n",
      "Mehsana\n",
      "Chhota Udaipur\n",
      "Patan\n",
      "Morbi\n",
      "Botad\n",
      "Gandhinagar\n",
      "Bharuch\n",
      "Anand\n",
      "Vadodara(Baroda)\n",
      "Porbandar\n",
      "Ahmedabad\n",
      "Gir Somnath\n",
      "Devbhumi Dwarka\n",
      "Surendranagar\n",
      "Panchmahals\n",
      "Kachchh\n",
      "Narmada\n"
     ]
    }
   ],
   "source": [
    "for i in df['District Name'].unique():\n",
    "    print(i)"
   ]
  },
  {
   "cell_type": "code",
   "execution_count": 139,
   "id": "b47c3fb2",
   "metadata": {},
   "outputs": [
    {
     "data": {
      "text/html": [
       "<div>\n",
       "<style scoped>\n",
       "    .dataframe tbody tr th:only-of-type {\n",
       "        vertical-align: middle;\n",
       "    }\n",
       "\n",
       "    .dataframe tbody tr th {\n",
       "        vertical-align: top;\n",
       "    }\n",
       "\n",
       "    .dataframe thead th {\n",
       "        text-align: right;\n",
       "    }\n",
       "</style>\n",
       "<table border=\"1\" class=\"dataframe\">\n",
       "  <thead>\n",
       "    <tr style=\"text-align: right;\">\n",
       "      <th></th>\n",
       "      <th>District Name</th>\n",
       "      <th>Market Name</th>\n",
       "      <th>Commodity</th>\n",
       "      <th>Min Price(Rs.)</th>\n",
       "      <th>Max Price(Rs.)</th>\n",
       "      <th>Model Price</th>\n",
       "      <th>Year</th>\n",
       "      <th>Month</th>\n",
       "      <th>Day</th>\n",
       "    </tr>\n",
       "  </thead>\n",
       "  <tbody>\n",
       "    <tr>\n",
       "      <th>0</th>\n",
       "      <td>Junagarh</td>\n",
       "      <td>Junagadh</td>\n",
       "      <td>Soyabean</td>\n",
       "      <td>2750.0</td>\n",
       "      <td>3500.0</td>\n",
       "      <td>3125.0</td>\n",
       "      <td>2018.0</td>\n",
       "      <td>6.0</td>\n",
       "      <td>13.0</td>\n",
       "    </tr>\n",
       "    <tr>\n",
       "      <th>1</th>\n",
       "      <td>Surat</td>\n",
       "      <td>S.Mandvi</td>\n",
       "      <td>Green Gram (Moong)(Whole)</td>\n",
       "      <td>5750.0</td>\n",
       "      <td>6710.0</td>\n",
       "      <td>6230.0</td>\n",
       "      <td>2020.0</td>\n",
       "      <td>6.0</td>\n",
       "      <td>14.0</td>\n",
       "    </tr>\n",
       "    <tr>\n",
       "      <th>2</th>\n",
       "      <td>Bhavnagar</td>\n",
       "      <td>Bhavnagar</td>\n",
       "      <td>Wheat</td>\n",
       "      <td>2345.0</td>\n",
       "      <td>2365.0</td>\n",
       "      <td>2355.0</td>\n",
       "      <td>2022.0</td>\n",
       "      <td>7.0</td>\n",
       "      <td>25.0</td>\n",
       "    </tr>\n",
       "    <tr>\n",
       "      <th>3</th>\n",
       "      <td>Rajkot</td>\n",
       "      <td>Dhoraji</td>\n",
       "      <td>Wheat</td>\n",
       "      <td>2405.0</td>\n",
       "      <td>2590.0</td>\n",
       "      <td>2570.0</td>\n",
       "      <td>2024.0</td>\n",
       "      <td>6.0</td>\n",
       "      <td>4.0</td>\n",
       "    </tr>\n",
       "    <tr>\n",
       "      <th>4</th>\n",
       "      <td>Amreli</td>\n",
       "      <td>Amreli</td>\n",
       "      <td>Wheat</td>\n",
       "      <td>2250.0</td>\n",
       "      <td>3090.0</td>\n",
       "      <td>2905.0</td>\n",
       "      <td>2023.0</td>\n",
       "      <td>2.0</td>\n",
       "      <td>4.0</td>\n",
       "    </tr>\n",
       "  </tbody>\n",
       "</table>\n",
       "</div>"
      ],
      "text/plain": [
       "  District Name Market Name                  Commodity  Min Price(Rs.)  \\\n",
       "0      Junagarh    Junagadh                   Soyabean          2750.0   \n",
       "1         Surat    S.Mandvi  Green Gram (Moong)(Whole)          5750.0   \n",
       "2     Bhavnagar   Bhavnagar                      Wheat          2345.0   \n",
       "3        Rajkot     Dhoraji                      Wheat          2405.0   \n",
       "4        Amreli      Amreli                      Wheat          2250.0   \n",
       "\n",
       "   Max Price(Rs.)  Model Price    Year  Month   Day  \n",
       "0          3500.0       3125.0  2018.0    6.0  13.0  \n",
       "1          6710.0       6230.0  2020.0    6.0  14.0  \n",
       "2          2365.0       2355.0  2022.0    7.0  25.0  \n",
       "3          2590.0       2570.0  2024.0    6.0   4.0  \n",
       "4          3090.0       2905.0  2023.0    2.0   4.0  "
      ]
     },
     "execution_count": 139,
     "metadata": {},
     "output_type": "execute_result"
    }
   ],
   "source": [
    "df.head()"
   ]
  },
  {
   "cell_type": "code",
   "execution_count": 100,
   "id": "fcf81027",
   "metadata": {},
   "outputs": [],
   "source": [
    "with open('Artifacts/New_pipeline.pkl','wb') as f:\n",
    "    pickle.dump(pipeline,f)"
   ]
  },
  {
   "cell_type": "code",
   "execution_count": 98,
   "id": "85ec984a",
   "metadata": {},
   "outputs": [],
   "source": [
    "predictions=pipeline.predict(X_test)"
   ]
  },
  {
   "cell_type": "code",
   "execution_count": 99,
   "id": "ca9e2fb7",
   "metadata": {},
   "outputs": [
    {
     "data": {
      "text/plain": [
       "array([2034.117 , 7507.5635, 1784.1718, ..., 2346.536 , 1813.239 ,\n",
       "       2500.1062], dtype=float32)"
      ]
     },
     "execution_count": 99,
     "metadata": {},
     "output_type": "execute_result"
    }
   ],
   "source": [
    "predictions"
   ]
  },
  {
   "cell_type": "code",
   "execution_count": 101,
   "id": "788f6b03",
   "metadata": {},
   "outputs": [
    {
     "data": {
      "text/plain": [
       "array([['Junagarh', 'Junagadh', 'Soyabean', ..., 2018.0, 6.0, 13.0],\n",
       "       ['Surat', 'S.Mandvi', 'Green Gram (Moong)(Whole)', ..., 2020.0,\n",
       "        6.0, 14.0],\n",
       "       ['Bhavnagar', 'Bhavnagar', 'Wheat', ..., 2022.0, 7.0, 25.0],\n",
       "       ...,\n",
       "       ['Rajkot', 'Gondal', 'Green Gram (Moong)(Whole)', ..., 2019.0,\n",
       "        6.0, 25.0],\n",
       "       ['Amreli', 'Rajula', 'Soyabean', ..., 2023.0, 10.0, 27.0],\n",
       "       ['Amreli', 'Rajula', 'Moath Dal', ..., 2023.0, 11.0, 25.0]],\n",
       "      dtype=object)"
      ]
     },
     "execution_count": 101,
     "metadata": {},
     "output_type": "execute_result"
    }
   ],
   "source": [
    "df.values"
   ]
  },
  {
   "cell_type": "code",
   "execution_count": 1,
   "id": "bf6e7f8c",
   "metadata": {},
   "outputs": [
    {
     "name": "stderr",
     "output_type": "stream",
     "text": [
      "  error: subprocess-exited-with-error\n",
      "  \n",
      "  Preparing metadata (pyproject.toml) did not run successfully.\n",
      "  exit code: 1\n",
      "  \n",
      "  [20 lines of output]\n",
      "  <string>:17: DeprecationWarning: pkg_resources is deprecated as an API. See https://setuptools.pypa.io/en/latest/pkg_resources.html\n",
      "  Partial import of sklearn during the build process.\n",
      "  Traceback (most recent call last):\n",
      "    File \"C:\\Users\\hetbh\\AppData\\Local\\Packages\\PythonSoftwareFoundation.Python.3.12_qbz5n2kfra8p0\\LocalCache\\local-packages\\Python312\\site-packages\\pip\\_vendor\\pyproject_hooks\\_in_process\\_in_process.py\", line 353, in <module>\n",
      "      main()\n",
      "    File \"C:\\Users\\hetbh\\AppData\\Local\\Packages\\PythonSoftwareFoundation.Python.3.12_qbz5n2kfra8p0\\LocalCache\\local-packages\\Python312\\site-packages\\pip\\_vendor\\pyproject_hooks\\_in_process\\_in_process.py\", line 335, in main\n",
      "      json_out['return_val'] = hook(**hook_input['kwargs'])\n",
      "                               ^^^^^^^^^^^^^^^^^^^^^^^^^^^^\n",
      "    File \"C:\\Users\\hetbh\\AppData\\Local\\Packages\\PythonSoftwareFoundation.Python.3.12_qbz5n2kfra8p0\\LocalCache\\local-packages\\Python312\\site-packages\\pip\\_vendor\\pyproject_hooks\\_in_process\\_in_process.py\", line 149, in prepare_metadata_for_build_wheel\n",
      "      return hook(metadata_directory, config_settings)\n",
      "             ^^^^^^^^^^^^^^^^^^^^^^^^^^^^^^^^^^^^^^^^^\n",
      "    File \"C:\\Users\\hetbh\\AppData\\Local\\Temp\\pip-build-env-vrixmzs7\\overlay\\Lib\\site-packages\\setuptools\\build_meta.py\", line 368, in prepare_metadata_for_build_wheel\n",
      "      self.run_setup()\n",
      "    File \"C:\\Users\\hetbh\\AppData\\Local\\Temp\\pip-build-env-vrixmzs7\\overlay\\Lib\\site-packages\\setuptools\\build_meta.py\", line 497, in run_setup\n",
      "      super().run_setup(setup_script=setup_script)\n",
      "    File \"C:\\Users\\hetbh\\AppData\\Local\\Temp\\pip-build-env-vrixmzs7\\overlay\\Lib\\site-packages\\setuptools\\build_meta.py\", line 313, in run_setup\n",
      "      exec(code, locals())\n",
      "    File \"<string>\", line 301, in <module>\n",
      "    File \"<string>\", line 293, in setup_package\n",
      "  ModuleNotFoundError: No module named 'numpy.distutils'\n",
      "  [end of output]\n",
      "  \n",
      "  note: This error originates from a subprocess, and is likely not a problem with pip.\n",
      "error: metadata-generation-failed\n",
      "\n",
      "Encountered error while generating package metadata.\n",
      "\n",
      "See above for output.\n",
      "\n",
      "note: This is an issue with the package mentioned above, not pip.\n",
      "hint: See above for details.\n"
     ]
    },
    {
     "name": "stdout",
     "output_type": "stream",
     "text": [
      "Defaulting to user installation because normal site-packages is not writeable\n",
      "Collecting scikit-learn==0.24.2\n",
      "  Using cached scikit-learn-0.24.2.tar.gz (7.5 MB)\n",
      "  Installing build dependencies: started\n",
      "  Installing build dependencies: finished with status 'done'\n",
      "  Getting requirements to build wheel: started\n",
      "  Getting requirements to build wheel: finished with status 'done'\n",
      "  Preparing metadata (pyproject.toml): started\n",
      "  Preparing metadata (pyproject.toml): finished with status 'error'\n"
     ]
    }
   ],
   "source": [
    "!pip install scikit-learn==0.24.2"
   ]
  },
  {
   "cell_type": "code",
   "execution_count": null,
   "id": "7887bcca",
   "metadata": {},
   "outputs": [],
   "source": []
  }
 ],
 "metadata": {
  "kernelspec": {
   "display_name": "Python 3 (ipykernel)",
   "language": "python",
   "name": "python3"
  },
  "language_info": {
   "codemirror_mode": {
    "name": "ipython",
    "version": 3
   },
   "file_extension": ".py",
   "mimetype": "text/x-python",
   "name": "python",
   "nbconvert_exporter": "python",
   "pygments_lexer": "ipython3",
   "version": "3.11.5"
  }
 },
 "nbformat": 4,
 "nbformat_minor": 5
}
